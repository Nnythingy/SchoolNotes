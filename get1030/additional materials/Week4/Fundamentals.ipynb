{
 "cells": [
  {
   "cell_type": "markdown",
   "metadata": {},
   "source": [
    "### *GET1030 Computers and the Humanities*, week #4"
   ]
  },
  {
   "cell_type": "markdown",
   "metadata": {},
   "source": [
    "# Fundamentals of Python for data visualization"
   ]
  },
  {
   "cell_type": "markdown",
   "metadata": {},
   "source": [
    "As noted in the lecture, the goal of this notebook is to teach you \"survival Python\" - enough for you to create a wide range of visualizations. But we will be skipping many core features of Python. \n",
    "\n",
    "If you prefer a tutorial that covers all the fundamentals of Python (but which is much longer), please see [this resource](https://allendowney.github.io/ElementsOfDataScience/)"
   ]
  },
  {
   "cell_type": "markdown",
   "metadata": {},
   "source": [
    "At it's most basic, a programming language like Python enables us to do mathematical calculations. You can type in directly a number, an addition operator, and another number (as you would do in a calculator) and a result will come up."
   ]
  },
  {
   "cell_type": "code",
   "execution_count": null,
   "metadata": {
    "scrolled": false
   },
   "outputs": [],
   "source": [
    "5 + 7"
   ]
  },
  {
   "cell_type": "code",
   "execution_count": null,
   "metadata": {},
   "outputs": [],
   "source": [
    "12 + 9"
   ]
  },
  {
   "cell_type": "markdown",
   "metadata": {},
   "source": [
    "*If you want to know more about how to do more arithmetic opeartions in Python, click [here](https://www.w3schools.com/python/python_operators.asp)."
   ]
  },
  {
   "cell_type": "markdown",
   "metadata": {},
   "source": [
    "### Variables"
   ]
  },
  {
   "cell_type": "markdown",
   "metadata": {},
   "source": [
    "Variables are one of the most fundamental concepts in programming. A variable is like a box than can contain numbers, text, images or geolocations. The advantage of working with variables is that we can describe logical operations to be applied to these boxes at a more abstract level, and we can reuse those instructions in many different scenarios.\n",
    "\n",
    "To name variables in Python, you can choose any combination of letters and numbers as long as it follows certain rules: \n",
    "\n",
    "\n",
    "* A variable name must start with a letter or the underscore character\n",
    "* A variable name cannot start with a number\n",
    "* A variable name can only contain alpha-numeric characters and underscores (A-z, 0-9, and _ )\n",
    "* Variable names are case-sensitive (age, Age and AGE are three different variables)\n",
    "\n",
    "You can assign a value to a variable with the **=** operator, as follows."
   ]
  },
  {
   "cell_type": "code",
   "execution_count": 1,
   "metadata": {},
   "outputs": [],
   "source": [
    "x = 5\n",
    "y = 7"
   ]
  },
  {
   "cell_type": "markdown",
   "metadata": {},
   "source": [
    "*For more on the different types of variables supported by Python [click here](https://www.w3schools.com/python/python_variables.asp)."
   ]
  },
  {
   "cell_type": "markdown",
   "metadata": {},
   "source": [
    "Once you have defined a set of variables, you can specificy an operation to be performed on these variables at a more abstract level. This is similar to what happens in algebra."
   ]
  },
  {
   "cell_type": "code",
   "execution_count": 2,
   "metadata": {
    "scrolled": true
   },
   "outputs": [
    {
     "data": {
      "text/plain": [
       "12"
      ]
     },
     "execution_count": 2,
     "metadata": {},
     "output_type": "execute_result"
    }
   ],
   "source": [
    "x + y"
   ]
  },
  {
   "cell_type": "markdown",
   "metadata": {},
   "source": [
    "### Functions"
   ]
  },
  {
   "cell_type": "markdown",
   "metadata": {},
   "source": [
    "Functions are another fundametnal building block of python. A funciton is a series of instructions that are encapsulated together, so that they can be reused in the future."
   ]
  },
  {
   "cell_type": "markdown",
   "metadata": {},
   "source": [
    "To create a function we use the keyword **def**. In the opening line we specify the name we want to give our funciton, which can be anything, as long as we follow some rules:\n",
    "* They must start with a letter or an underscore: _.\n",
    "* They should be lowercase.\n",
    "* They can have numbers.\n",
    "* They can’t be the same as a Python keyword, such as **def**.\n",
    "\n",
    "\n",
    "Then in between brackets () we can specify some **parameters**, which are similar to variables, but which will only exist within the limits of our function."
   ]
  },
  {
   "cell_type": "code",
   "execution_count": 3,
   "metadata": {},
   "outputs": [],
   "source": [
    "def subtract(x,y):\n",
    "    result = x - y\n",
    "    print(result)"
   ]
  },
  {
   "cell_type": "code",
   "execution_count": 4,
   "metadata": {
    "scrolled": true
   },
   "outputs": [
    {
     "name": "stdout",
     "output_type": "stream",
     "text": [
      "4\n"
     ]
    }
   ],
   "source": [
    "subtract(8,4)"
   ]
  },
  {
   "cell_type": "code",
   "execution_count": 5,
   "metadata": {
    "scrolled": true
   },
   "outputs": [
    {
     "name": "stdout",
     "output_type": "stream",
     "text": [
      "-4\n"
     ]
    }
   ],
   "source": [
    "subtract(4,8)"
   ]
  },
  {
   "cell_type": "markdown",
   "metadata": {},
   "source": [
    "Note that you can also pass arguments to these functions using the **key=value** notation, in which case the order of the parameters does not matter."
   ]
  },
  {
   "cell_type": "code",
   "execution_count": 6,
   "metadata": {},
   "outputs": [
    {
     "name": "stdout",
     "output_type": "stream",
     "text": [
      "4\n"
     ]
    }
   ],
   "source": [
    "subtract(y=4,x=8)"
   ]
  },
  {
   "cell_type": "markdown",
   "metadata": {},
   "source": [
    "*For more on functions, [click here](https://www.w3schools.com/python/python_functions.asp)"
   ]
  },
  {
   "cell_type": "markdown",
   "metadata": {},
   "source": [
    "### Importing libraries"
   ]
  },
  {
   "cell_type": "markdown",
   "metadata": {},
   "source": [
    "Libraries are collections of functions that extend the functionality of a programming language.\n",
    "\n",
    "PANDAS is a common library for data analysis and visualization. To import the library, you must have first installed it (it is included as a default package in ANACONDA). \n",
    "\n",
    "Then you can use the **import** command to bring it into your current notebook. It is a convention to import PANDAS as **pd**. This means that every time you need a PANDAS function you can write just write 'pd', which is shorter."
   ]
  },
  {
   "cell_type": "code",
   "execution_count": 7,
   "metadata": {},
   "outputs": [],
   "source": [
    "import pandas as pd"
   ]
  },
  {
   "cell_type": "markdown",
   "metadata": {},
   "source": [
    "We are now going to use pandas to create a **Data Frame**. A Data frame provides us with a way to store data in ways that are more complex than a normal variable. Data frames can be thought of as rectangular grids, similar to spreadsheets like the ones you find in Excel. The main components of a data frame are the **index** (or \"row names\"), the **columns** (think of them as the \"column names\") and the **data** (the content of each cell)."
   ]
  },
  {
   "cell_type": "markdown",
   "metadata": {},
   "source": [
    "There are many ways to data frames with Pandas, but here we are only interested in how to export excel files as Data Frames, using the following command.\n",
    "\n",
    "(We are going to use a sample dataset of films in languages other than English, taken from IMDB, which is also found in this week's materials.)\n",
    "\n",
    "**For this to work, please note that the Excel file needs to be in the same folder as your Python Notebook.*"
   ]
  },
  {
   "cell_type": "code",
   "execution_count": 8,
   "metadata": {},
   "outputs": [],
   "source": [
    "df = pd.read_excel(\"data/worldFilms.xlsx\")"
   ]
  },
  {
   "cell_type": "markdown",
   "metadata": {},
   "source": [
    "*If you are interested in other ways to create data frames, you can look at [this tutorial](https://nbviewer.jupyter.org/github/AllenDowney/ElementsOfDataScience/blob/master/07_dataframes.ipynb) or at the [official documentation page](https://pandas.pydata.org/pandas-docs/stable/reference/api/pandas.DataFrame.html)."
   ]
  },
  {
   "cell_type": "markdown",
   "metadata": {},
   "source": [
    "We have named our Data Frame as **df**. To explore its contents, simply write \"df\". Note that a central chunk of the rows has been omitted. "
   ]
  },
  {
   "cell_type": "code",
   "execution_count": 9,
   "metadata": {
    "scrolled": true
   },
   "outputs": [
    {
     "data": {
      "text/html": [
       "<div>\n",
       "<style scoped>\n",
       "    .dataframe tbody tr th:only-of-type {\n",
       "        vertical-align: middle;\n",
       "    }\n",
       "\n",
       "    .dataframe tbody tr th {\n",
       "        vertical-align: top;\n",
       "    }\n",
       "\n",
       "    .dataframe thead th {\n",
       "        text-align: right;\n",
       "    }\n",
       "</style>\n",
       "<table border=\"1\" class=\"dataframe\">\n",
       "  <thead>\n",
       "    <tr style=\"text-align: right;\">\n",
       "      <th></th>\n",
       "      <th>id</th>\n",
       "      <th>vote_average</th>\n",
       "      <th>vote_count</th>\n",
       "      <th>budget</th>\n",
       "      <th>revenue</th>\n",
       "      <th>runtime</th>\n",
       "      <th>lan</th>\n",
       "      <th>date</th>\n",
       "    </tr>\n",
       "  </thead>\n",
       "  <tbody>\n",
       "    <tr>\n",
       "      <th>0</th>\n",
       "      <td>1</td>\n",
       "      <td>5.0</td>\n",
       "      <td>471</td>\n",
       "      <td>97250400</td>\n",
       "      <td>132900000</td>\n",
       "      <td>116</td>\n",
       "      <td>fr</td>\n",
       "      <td>2008-01-01</td>\n",
       "    </tr>\n",
       "    <tr>\n",
       "      <th>1</th>\n",
       "      <td>2</td>\n",
       "      <td>7.1</td>\n",
       "      <td>187</td>\n",
       "      <td>94000000</td>\n",
       "      <td>95311434</td>\n",
       "      <td>145</td>\n",
       "      <td>zh</td>\n",
       "      <td>2011-01-01</td>\n",
       "    </tr>\n",
       "    <tr>\n",
       "      <th>2</th>\n",
       "      <td>3</td>\n",
       "      <td>6.2</td>\n",
       "      <td>367</td>\n",
       "      <td>60000000</td>\n",
       "      <td>66976317</td>\n",
       "      <td>148</td>\n",
       "      <td>fr</td>\n",
       "      <td>1999-01-01</td>\n",
       "    </tr>\n",
       "    <tr>\n",
       "      <th>3</th>\n",
       "      <td>4</td>\n",
       "      <td>7.2</td>\n",
       "      <td>635</td>\n",
       "      <td>31000000</td>\n",
       "      <td>177394432</td>\n",
       "      <td>99</td>\n",
       "      <td>zh</td>\n",
       "      <td>2002-01-01</td>\n",
       "    </tr>\n",
       "    <tr>\n",
       "      <th>4</th>\n",
       "      <td>5</td>\n",
       "      <td>6.8</td>\n",
       "      <td>148</td>\n",
       "      <td>33000000</td>\n",
       "      <td>14000000</td>\n",
       "      <td>100</td>\n",
       "      <td>fr</td>\n",
       "      <td>2009-01-01</td>\n",
       "    </tr>\n",
       "    <tr>\n",
       "      <th>...</th>\n",
       "      <td>...</td>\n",
       "      <td>...</td>\n",
       "      <td>...</td>\n",
       "      <td>...</td>\n",
       "      <td>...</td>\n",
       "      <td>...</td>\n",
       "      <td>...</td>\n",
       "      <td>...</td>\n",
       "    </tr>\n",
       "    <tr>\n",
       "      <th>82</th>\n",
       "      <td>83</td>\n",
       "      <td>7.6</td>\n",
       "      <td>521</td>\n",
       "      <td>2000000</td>\n",
       "      <td>20908467</td>\n",
       "      <td>154</td>\n",
       "      <td>es</td>\n",
       "      <td>2000-01-01</td>\n",
       "    </tr>\n",
       "    <tr>\n",
       "      <th>83</th>\n",
       "      <td>84</td>\n",
       "      <td>7.3</td>\n",
       "      <td>221</td>\n",
       "      <td>1000000</td>\n",
       "      <td>4235151</td>\n",
       "      <td>104</td>\n",
       "      <td>hi</td>\n",
       "      <td>2013-01-01</td>\n",
       "    </tr>\n",
       "    <tr>\n",
       "      <th>84</th>\n",
       "      <td>85</td>\n",
       "      <td>5.9</td>\n",
       "      <td>43</td>\n",
       "      <td>1000000</td>\n",
       "      <td>10037390</td>\n",
       "      <td>107</td>\n",
       "      <td>ja</td>\n",
       "      <td>1999-01-01</td>\n",
       "    </tr>\n",
       "    <tr>\n",
       "      <th>85</th>\n",
       "      <td>86</td>\n",
       "      <td>6.1</td>\n",
       "      <td>7</td>\n",
       "      <td>1000000</td>\n",
       "      <td>623791</td>\n",
       "      <td>170</td>\n",
       "      <td>hi</td>\n",
       "      <td>2000-01-01</td>\n",
       "    </tr>\n",
       "    <tr>\n",
       "      <th>86</th>\n",
       "      <td>87</td>\n",
       "      <td>5.8</td>\n",
       "      <td>923</td>\n",
       "      <td>35000000</td>\n",
       "      <td>170000000</td>\n",
       "      <td>99</td>\n",
       "      <td>da</td>\n",
       "      <td>2008-01-01</td>\n",
       "    </tr>\n",
       "  </tbody>\n",
       "</table>\n",
       "<p>87 rows × 8 columns</p>\n",
       "</div>"
      ],
      "text/plain": [
       "    id  vote_average  vote_count    budget    revenue  runtime lan       date\n",
       "0    1           5.0         471  97250400  132900000      116  fr 2008-01-01\n",
       "1    2           7.1         187  94000000   95311434      145  zh 2011-01-01\n",
       "2    3           6.2         367  60000000   66976317      148  fr 1999-01-01\n",
       "3    4           7.2         635  31000000  177394432       99  zh 2002-01-01\n",
       "4    5           6.8         148  33000000   14000000      100  fr 2009-01-01\n",
       "..  ..           ...         ...       ...        ...      ...  ..        ...\n",
       "82  83           7.6         521   2000000   20908467      154  es 2000-01-01\n",
       "83  84           7.3         221   1000000    4235151      104  hi 2013-01-01\n",
       "84  85           5.9          43   1000000   10037390      107  ja 1999-01-01\n",
       "85  86           6.1           7   1000000     623791      170  hi 2000-01-01\n",
       "86  87           5.8         923  35000000  170000000       99  da 2008-01-01\n",
       "\n",
       "[87 rows x 8 columns]"
      ]
     },
     "execution_count": 9,
     "metadata": {},
     "output_type": "execute_result"
    }
   ],
   "source": [
    "df"
   ]
  },
  {
   "cell_type": "code",
   "execution_count": 11,
   "metadata": {},
   "outputs": [
    {
     "data": {
      "text/html": [
       "<div>\n",
       "<style scoped>\n",
       "    .dataframe tbody tr th:only-of-type {\n",
       "        vertical-align: middle;\n",
       "    }\n",
       "\n",
       "    .dataframe tbody tr th {\n",
       "        vertical-align: top;\n",
       "    }\n",
       "\n",
       "    .dataframe thead th {\n",
       "        text-align: right;\n",
       "    }\n",
       "</style>\n",
       "<table border=\"1\" class=\"dataframe\">\n",
       "  <thead>\n",
       "    <tr style=\"text-align: right;\">\n",
       "      <th></th>\n",
       "      <th>id</th>\n",
       "      <th>vote_average</th>\n",
       "      <th>vote_count</th>\n",
       "      <th>budget</th>\n",
       "      <th>revenue</th>\n",
       "      <th>runtime</th>\n",
       "    </tr>\n",
       "  </thead>\n",
       "  <tbody>\n",
       "    <tr>\n",
       "      <th>count</th>\n",
       "      <td>87.000000</td>\n",
       "      <td>87.000000</td>\n",
       "      <td>87.000000</td>\n",
       "      <td>8.700000e+01</td>\n",
       "      <td>8.700000e+01</td>\n",
       "      <td>87.000000</td>\n",
       "    </tr>\n",
       "    <tr>\n",
       "      <th>mean</th>\n",
       "      <td>44.000000</td>\n",
       "      <td>6.762069</td>\n",
       "      <td>474.643678</td>\n",
       "      <td>1.773630e+07</td>\n",
       "      <td>4.513276e+07</td>\n",
       "      <td>118.367816</td>\n",
       "    </tr>\n",
       "    <tr>\n",
       "      <th>std</th>\n",
       "      <td>25.258662</td>\n",
       "      <td>0.900290</td>\n",
       "      <td>726.700971</td>\n",
       "      <td>1.914310e+07</td>\n",
       "      <td>5.854026e+07</td>\n",
       "      <td>24.499699</td>\n",
       "    </tr>\n",
       "    <tr>\n",
       "      <th>min</th>\n",
       "      <td>1.000000</td>\n",
       "      <td>3.000000</td>\n",
       "      <td>3.000000</td>\n",
       "      <td>3.000000e+01</td>\n",
       "      <td>1.030000e+02</td>\n",
       "      <td>76.000000</td>\n",
       "    </tr>\n",
       "    <tr>\n",
       "      <th>25%</th>\n",
       "      <td>22.500000</td>\n",
       "      <td>6.350000</td>\n",
       "      <td>77.000000</td>\n",
       "      <td>6.200000e+06</td>\n",
       "      <td>8.295650e+06</td>\n",
       "      <td>100.000000</td>\n",
       "    </tr>\n",
       "    <tr>\n",
       "      <th>50%</th>\n",
       "      <td>44.000000</td>\n",
       "      <td>7.000000</td>\n",
       "      <td>210.000000</td>\n",
       "      <td>1.200000e+07</td>\n",
       "      <td>1.927131e+07</td>\n",
       "      <td>118.000000</td>\n",
       "    </tr>\n",
       "    <tr>\n",
       "      <th>75%</th>\n",
       "      <td>65.500000</td>\n",
       "      <td>7.300000</td>\n",
       "      <td>551.000000</td>\n",
       "      <td>2.250000e+07</td>\n",
       "      <td>6.552653e+07</td>\n",
       "      <td>129.500000</td>\n",
       "    </tr>\n",
       "    <tr>\n",
       "      <th>max</th>\n",
       "      <td>87.000000</td>\n",
       "      <td>8.300000</td>\n",
       "      <td>3840.000000</td>\n",
       "      <td>9.725040e+07</td>\n",
       "      <td>2.749251e+08</td>\n",
       "      <td>193.000000</td>\n",
       "    </tr>\n",
       "  </tbody>\n",
       "</table>\n",
       "</div>"
      ],
      "text/plain": [
       "              id  vote_average   vote_count        budget       revenue  \\\n",
       "count  87.000000     87.000000    87.000000  8.700000e+01  8.700000e+01   \n",
       "mean   44.000000      6.762069   474.643678  1.773630e+07  4.513276e+07   \n",
       "std    25.258662      0.900290   726.700971  1.914310e+07  5.854026e+07   \n",
       "min     1.000000      3.000000     3.000000  3.000000e+01  1.030000e+02   \n",
       "25%    22.500000      6.350000    77.000000  6.200000e+06  8.295650e+06   \n",
       "50%    44.000000      7.000000   210.000000  1.200000e+07  1.927131e+07   \n",
       "75%    65.500000      7.300000   551.000000  2.250000e+07  6.552653e+07   \n",
       "max    87.000000      8.300000  3840.000000  9.725040e+07  2.749251e+08   \n",
       "\n",
       "          runtime  \n",
       "count   87.000000  \n",
       "mean   118.367816  \n",
       "std     24.499699  \n",
       "min     76.000000  \n",
       "25%    100.000000  \n",
       "50%    118.000000  \n",
       "75%    129.500000  \n",
       "max    193.000000  "
      ]
     },
     "execution_count": 11,
     "metadata": {},
     "output_type": "execute_result"
    }
   ],
   "source": [
    "df.describe()"
   ]
  },
  {
   "cell_type": "markdown",
   "metadata": {},
   "source": [
    "You can also choose to only see the first few rows of your data frame with the command **head()**."
   ]
  },
  {
   "cell_type": "code",
   "execution_count": 12,
   "metadata": {
    "scrolled": false
   },
   "outputs": [
    {
     "data": {
      "text/html": [
       "<div>\n",
       "<style scoped>\n",
       "    .dataframe tbody tr th:only-of-type {\n",
       "        vertical-align: middle;\n",
       "    }\n",
       "\n",
       "    .dataframe tbody tr th {\n",
       "        vertical-align: top;\n",
       "    }\n",
       "\n",
       "    .dataframe thead th {\n",
       "        text-align: right;\n",
       "    }\n",
       "</style>\n",
       "<table border=\"1\" class=\"dataframe\">\n",
       "  <thead>\n",
       "    <tr style=\"text-align: right;\">\n",
       "      <th></th>\n",
       "      <th>id</th>\n",
       "      <th>vote_average</th>\n",
       "      <th>vote_count</th>\n",
       "      <th>budget</th>\n",
       "      <th>revenue</th>\n",
       "      <th>runtime</th>\n",
       "      <th>lan</th>\n",
       "      <th>date</th>\n",
       "    </tr>\n",
       "  </thead>\n",
       "  <tbody>\n",
       "    <tr>\n",
       "      <th>0</th>\n",
       "      <td>1</td>\n",
       "      <td>5.0</td>\n",
       "      <td>471</td>\n",
       "      <td>97250400</td>\n",
       "      <td>132900000</td>\n",
       "      <td>116</td>\n",
       "      <td>fr</td>\n",
       "      <td>2008-01-01</td>\n",
       "    </tr>\n",
       "    <tr>\n",
       "      <th>1</th>\n",
       "      <td>2</td>\n",
       "      <td>7.1</td>\n",
       "      <td>187</td>\n",
       "      <td>94000000</td>\n",
       "      <td>95311434</td>\n",
       "      <td>145</td>\n",
       "      <td>zh</td>\n",
       "      <td>2011-01-01</td>\n",
       "    </tr>\n",
       "    <tr>\n",
       "      <th>2</th>\n",
       "      <td>3</td>\n",
       "      <td>6.2</td>\n",
       "      <td>367</td>\n",
       "      <td>60000000</td>\n",
       "      <td>66976317</td>\n",
       "      <td>148</td>\n",
       "      <td>fr</td>\n",
       "      <td>1999-01-01</td>\n",
       "    </tr>\n",
       "    <tr>\n",
       "      <th>3</th>\n",
       "      <td>4</td>\n",
       "      <td>7.2</td>\n",
       "      <td>635</td>\n",
       "      <td>31000000</td>\n",
       "      <td>177394432</td>\n",
       "      <td>99</td>\n",
       "      <td>zh</td>\n",
       "      <td>2002-01-01</td>\n",
       "    </tr>\n",
       "    <tr>\n",
       "      <th>4</th>\n",
       "      <td>5</td>\n",
       "      <td>6.8</td>\n",
       "      <td>148</td>\n",
       "      <td>33000000</td>\n",
       "      <td>14000000</td>\n",
       "      <td>100</td>\n",
       "      <td>fr</td>\n",
       "      <td>2009-01-01</td>\n",
       "    </tr>\n",
       "  </tbody>\n",
       "</table>\n",
       "</div>"
      ],
      "text/plain": [
       "   id  vote_average  vote_count    budget    revenue  runtime lan       date\n",
       "0   1           5.0         471  97250400  132900000      116  fr 2008-01-01\n",
       "1   2           7.1         187  94000000   95311434      145  zh 2011-01-01\n",
       "2   3           6.2         367  60000000   66976317      148  fr 1999-01-01\n",
       "3   4           7.2         635  31000000  177394432       99  zh 2002-01-01\n",
       "4   5           6.8         148  33000000   14000000      100  fr 2009-01-01"
      ]
     },
     "execution_count": 12,
     "metadata": {},
     "output_type": "execute_result"
    }
   ],
   "source": [
    "df.head()"
   ]
  },
  {
   "cell_type": "markdown",
   "metadata": {},
   "source": [
    "To retrieve the values of a specific column, you can type the name of that column in inverted commas \"\" within square brackets [], immediately after the name of your data frame (this will come in handy later)."
   ]
  },
  {
   "cell_type": "code",
   "execution_count": 13,
   "metadata": {},
   "outputs": [
    {
     "data": {
      "text/plain": [
       "0     5.0\n",
       "1     7.1\n",
       "2     6.2\n",
       "3     7.2\n",
       "4     6.8\n",
       "     ... \n",
       "82    7.6\n",
       "83    7.3\n",
       "84    5.9\n",
       "85    6.1\n",
       "86    5.8\n",
       "Name: vote_average, Length: 87, dtype: float64"
      ]
     },
     "execution_count": 13,
     "metadata": {},
     "output_type": "execute_result"
    }
   ],
   "source": [
    "df[\"vote_average\"]"
   ]
  },
  {
   "cell_type": "markdown",
   "metadata": {},
   "source": [
    "*There are more complex ways to retrieve information from a data frame, by combining columns, or by only selecting values that meet a certain criteria. For more on how to do this, see [here](https://datacarpentry.org/python-ecology-lesson/03-index-slice-subset/)."
   ]
  },
  {
   "cell_type": "markdown",
   "metadata": {},
   "source": [
    "## Visualizing data"
   ]
  },
  {
   "cell_type": "markdown",
   "metadata": {},
   "source": [
    "*Click here to learn more about Markdown https://guides.github.com/features/mastering-markdown/*"
   ]
  },
  {
   "cell_type": "markdown",
   "metadata": {},
   "source": [
    "For visualizing data, we are going to use two other libraries, called **Seaborn** and **Matplotlib**. The steps should now be familiar."
   ]
  },
  {
   "cell_type": "code",
   "execution_count": 14,
   "metadata": {},
   "outputs": [],
   "source": [
    "import seaborn as sns\n",
    "import matplotlib.pyplot as plt"
   ]
  },
  {
   "cell_type": "markdown",
   "metadata": {},
   "source": [
    "*For more information, please refer to the [official Seaborn tutorials](https://seaborn.pydata.org/tutorial.html)\n",
    "*Seaborn is built on top of Matplotlib. To understand how the visualizations work at a deeper level, please see the [official Matplotlib tutorial](https://matplotlib.org/tutorials/introductory/pyplot.html)"
   ]
  },
  {
   "cell_type": "markdown",
   "metadata": {},
   "source": [
    "### Barplots"
   ]
  },
  {
   "cell_type": "markdown",
   "metadata": {},
   "source": [
    "We are now going to see a few types of data visualization. Each one will take a few parameters (remember our discussion of functions above). To create a bar plot, we specify three parameters:\n",
    "* x = the categories to be displayed in the x axis\n",
    "* y = the values to be graphed\n",
    "* data = the source of the data, in this case the data frame we created earlier, by exporting data from Excel."
   ]
  },
  {
   "cell_type": "code",
   "execution_count": 15,
   "metadata": {
    "scrolled": false
   },
   "outputs": [
    {
     "data": {
      "image/png": "[encoded data removed]",
      "text/plain": [
       "<Figure size 432x288 with 1 Axes>"
      ]
     },
     "metadata": {
      "needs_background": "light"
     },
     "output_type": "display_data"
    }
   ],
   "source": [
    "ax = sns.barplot(data=df, x=\"lan\",y=\"runtime\")"
   ]
  },
  {
   "cell_type": "markdown",
   "metadata": {},
   "source": [
    "As a convention we often assign the visualization to a variable, so that we can do other things with it. In many tutorials, **ax** is used as a naming convention for this variable. This is because seaborn creates an instance of something called an 'axis'."
   ]
  },
  {
   "cell_type": "markdown",
   "metadata": {},
   "source": [
    "As shown in the video, the bars are different from what a program like Excel would show. They represent the mean for each category (in this case language, since this was our x parameter). They bars include a line which represents the 95% confidence interval. If you don't know or have forgotten what is a confidence interval, please see this Khan Academy [video](https://www.khanacademy.org/math/statistics-probability/confidence-intervals-one-sample/introduction-to-confidence-intervals/v/confidence-intervals-and-margin-of-error). Seaborn uses  [bootstrapping re-sampling](https://www.youtube.com/watch?v=iN-77YVqLDw) to calculate these confidence intervals."
   ]
  },
  {
   "cell_type": "markdown",
   "metadata": {},
   "source": [
    "But in some cases, it might make more sense to plot the Standard Deviation. In this case, you can pass the \"sd\" argument to the **ci** parameter."
   ]
  },
  {
   "cell_type": "code",
   "execution_count": 16,
   "metadata": {},
   "outputs": [
    {
     "data": {
      "image/png": "[encoded data removed]",
      "text/plain": [
       "<Figure size 432x288 with 1 Axes>"
      ]
     },
     "metadata": {
      "needs_background": "light"
     },
     "output_type": "display_data"
    }
   ],
   "source": [
    "ax = sns.barplot(data=df, x=\"lan\",y=\"runtime\", ci=\"sd\")"
   ]
  },
  {
   "cell_type": "markdown",
   "metadata": {},
   "source": [
    "Sometimes we might want to save the resulting graph as a separate image. For this, we can add one additional line of code, where we specify the name for our desired file, and the resolution."
   ]
  },
  {
   "cell_type": "code",
   "execution_count": 17,
   "metadata": {},
   "outputs": [
    {
     "data": {
      "image/png": "[encoded data removed]",
      "text/plain": [
       "<Figure size 432x288 with 1 Axes>"
      ]
     },
     "metadata": {
      "needs_background": "light"
     },
     "output_type": "display_data"
    }
   ],
   "source": [
    "ax = sns.barplot(x=\"lan\",y=\"runtime\", data=df, ci=\"sd\")\n",
    "plt.savefig(\"barplot.jpg\",dpi=300)"
   ]
  },
  {
   "cell_type": "markdown",
   "metadata": {},
   "source": [
    "*Find out more about barplots [here](https://seaborn.pydata.org/generated/seaborn.barplot.html)."
   ]
  },
  {
   "cell_type": "markdown",
   "metadata": {},
   "source": [
    "## Distplots"
   ]
  },
  {
   "cell_type": "markdown",
   "metadata": {},
   "source": [
    "Distplots combine a histogram, a KDE and, if rug is set to True, also a rugplot.\n",
    "\n",
    "Notice that here the syntax is a bit different. The first argument we pass to our function is the column we want to plot (using the notation we saw above), followed by any additional arguments."
   ]
  },
  {
   "cell_type": "code",
   "execution_count": 18,
   "metadata": {
    "scrolled": false
   },
   "outputs": [
    {
     "data": {
      "image/png": "[encoded data removed]",
      "text/plain": [
       "<Figure size 360x360 with 1 Axes>"
      ]
     },
     "metadata": {
      "needs_background": "light"
     },
     "output_type": "display_data"
    }
   ],
   "source": [
    "ax = sns.displot(data=df,x=\"vote_average\")"
   ]
  },
  {
   "cell_type": "code",
   "execution_count": 19,
   "metadata": {},
   "outputs": [
    {
     "data": {
      "image/png": "[encoded data removed]",
      "text/plain": [
       "<Figure size 360x360 with 1 Axes>"
      ]
     },
     "metadata": {
      "needs_background": "light"
     },
     "output_type": "display_data"
    }
   ],
   "source": [
    "ax = sns.displot(data=df,x=\"vote_average\",binwidth=1)"
   ]
  },
  {
   "cell_type": "code",
   "execution_count": 20,
   "metadata": {},
   "outputs": [
    {
     "data": {
      "image/png": "[encoded data removed]",
      "text/plain": [
       "<Figure size 360x360 with 1 Axes>"
      ]
     },
     "metadata": {
      "needs_background": "light"
     },
     "output_type": "display_data"
    }
   ],
   "source": [
    "ax = sns.displot(data=df,x=\"vote_average\", rug=True, kde=True)"
   ]
  },
  {
   "cell_type": "markdown",
   "metadata": {},
   "source": [
    "To learn more about distribution plots, click [here](https://seaborn.pydata.org/generated/seaborn.distplot.html?highlight=distplot#seaborn.distplot)."
   ]
  },
  {
   "cell_type": "markdown",
   "metadata": {},
   "source": [
    "## Scatterplot"
   ]
  },
  {
   "cell_type": "code",
   "execution_count": 21,
   "metadata": {},
   "outputs": [
    {
     "data": {
      "image/png": "[encoded data removed]",
      "text/plain": [
       "<Figure size 432x288 with 1 Axes>"
      ]
     },
     "metadata": {
      "needs_background": "light"
     },
     "output_type": "display_data"
    }
   ],
   "source": [
    "ax = sns.scatterplot(x=\"budget\", y=\"revenue\",data=df)"
   ]
  },
  {
   "cell_type": "markdown",
   "metadata": {},
   "source": [
    "To learn more about scatterplots, click [here](https://seaborn.pydata.org/generated/seaborn.scatterplot.html)."
   ]
  },
  {
   "cell_type": "markdown",
   "metadata": {},
   "source": [
    "## Lineplot"
   ]
  },
  {
   "cell_type": "code",
   "execution_count": 22,
   "metadata": {
    "scrolled": true
   },
   "outputs": [
    {
     "data": {
      "image/png": "[encoded data removed]",
      "text/plain": [
       "<Figure size 432x288 with 1 Axes>"
      ]
     },
     "metadata": {
      "needs_background": "light"
     },
     "output_type": "display_data"
    }
   ],
   "source": [
    "ax = sns.lineplot(x=\"date\",y=\"vote_average\", data=df, ci=\"sd\")"
   ]
  },
  {
   "cell_type": "markdown",
   "metadata": {},
   "source": [
    "To learn more about lineplots, click [here](https://seaborn.pydata.org/generated/seaborn.lineplot.html)."
   ]
  },
  {
   "cell_type": "markdown",
   "metadata": {},
   "source": [
    "## Boxplot"
   ]
  },
  {
   "cell_type": "code",
   "execution_count": 23,
   "metadata": {
    "scrolled": false
   },
   "outputs": [
    {
     "data": {
      "image/png": "[encoded data removed]",
      "text/plain": [
       "<Figure size 432x288 with 1 Axes>"
      ]
     },
     "metadata": {
      "needs_background": "light"
     },
     "output_type": "display_data"
    }
   ],
   "source": [
    "ax = sns.boxplot(data=df, x =\"revenue\")"
   ]
  },
  {
   "cell_type": "markdown",
   "metadata": {},
   "source": [
    "If you want to change the orientation of the boxplot, you can set revenue to *y* instead of *x*"
   ]
  },
  {
   "cell_type": "code",
   "execution_count": 24,
   "metadata": {},
   "outputs": [
    {
     "data": {
      "image/png": "[encoded data removed]",
      "text/plain": [
       "<Figure size 432x288 with 1 Axes>"
      ]
     },
     "metadata": {
      "needs_background": "light"
     },
     "output_type": "display_data"
    }
   ],
   "source": [
    "ax = sns.boxplot(data=df, y =\"revenue\")"
   ]
  },
  {
   "cell_type": "markdown",
   "metadata": {},
   "source": [
    "To see each data point, a boxplot can be combined with a 'swarmplot'. The following command overlays a swarmplot on top of a boxplot."
   ]
  },
  {
   "cell_type": "markdown",
   "metadata": {},
   "source": [
    "But the difficult color scheme makes this hard to see, so we can change the color of the box plot, with the **color** argument."
   ]
  },
  {
   "cell_type": "code",
   "execution_count": 25,
   "metadata": {},
   "outputs": [
    {
     "data": {
      "image/png": "[encoded data removed]",
      "text/plain": [
       "<Figure size 432x288 with 1 Axes>"
      ]
     },
     "metadata": {
      "needs_background": "light"
     },
     "output_type": "display_data"
    }
   ],
   "source": [
    "ax = sns.boxplot(data = df[\"revenue\"],color=\"white\")\n",
    "ax = sns.swarmplot(data = df[\"revenue\"])"
   ]
  },
  {
   "cell_type": "markdown",
   "metadata": {},
   "source": [
    "To learn more about boxplots, click [here](https://seaborn.pydata.org/generated/seaborn.boxplot.html)"
   ]
  },
  {
   "cell_type": "markdown",
   "metadata": {},
   "source": [
    "## Violinplot"
   ]
  },
  {
   "cell_type": "code",
   "execution_count": 27,
   "metadata": {
    "scrolled": false
   },
   "outputs": [
    {
     "data": {
      "image/png": "[encoded data removed]",
      "text/plain": [
       "<Figure size 432x288 with 1 Axes>"
      ]
     },
     "metadata": {
      "needs_background": "light"
     },
     "output_type": "display_data"
    }
   ],
   "source": [
    "ax = sns.violinplot(data = df, y=\"budget\")"
   ]
  },
  {
   "cell_type": "markdown",
   "metadata": {},
   "source": [
    "It doesn't make sense to have values below 0, so we cut the plot at 0"
   ]
  },
  {
   "cell_type": "code",
   "execution_count": 28,
   "metadata": {
    "scrolled": false
   },
   "outputs": [
    {
     "data": {
      "image/png": "[encoded data removed]",
      "text/plain": [
       "<Figure size 432x288 with 1 Axes>"
      ]
     },
     "metadata": {
      "needs_background": "light"
     },
     "output_type": "display_data"
    }
   ],
   "source": [
    "ax = sns.violinplot(data = df, y=\"revenue\", cut=0)"
   ]
  },
  {
   "cell_type": "markdown",
   "metadata": {},
   "source": [
    "To learn more about violinplits, click [here](https://seaborn.pydata.org/generated/seaborn.violinplot.html)"
   ]
  },
  {
   "cell_type": "markdown",
   "metadata": {},
   "source": [
    "## Colors and appearance (optional)"
   ]
  },
  {
   "cell_type": "markdown",
   "metadata": {},
   "source": [
    "In some cases you might want to crop the axis, but be careful! **This might mislead the audience.**"
   ]
  },
  {
   "cell_type": "code",
   "execution_count": 29,
   "metadata": {
    "scrolled": true
   },
   "outputs": [
    {
     "data": {
      "text/plain": [
       "(50.0, 150.0)"
      ]
     },
     "execution_count": 29,
     "metadata": {},
     "output_type": "execute_result"
    },
    {
     "data": {
      "image/png": "[encoded data removed]",
      "text/plain": [
       "<Figure size 432x288 with 1 Axes>"
      ]
     },
     "metadata": {
      "needs_background": "light"
     },
     "output_type": "display_data"
    }
   ],
   "source": [
    "ax = sns.barplot(x=\"lan\",y=\"runtime\", data=df, ci=\"sd\")\n",
    "ax.set_ylim(50,150)"
   ]
  },
  {
   "cell_type": "markdown",
   "metadata": {},
   "source": [
    "To add specific ticks we use numpy to generate an array of numbers"
   ]
  },
  {
   "cell_type": "code",
   "execution_count": 30,
   "metadata": {},
   "outputs": [],
   "source": [
    "import numpy as np"
   ]
  },
  {
   "cell_type": "code",
   "execution_count": 31,
   "metadata": {},
   "outputs": [
    {
     "data": {
      "text/plain": [
       "array([  0,  10,  20,  30,  40,  50,  60,  70,  80,  90, 100, 110, 120,\n",
       "       130, 140, 150, 160, 170, 180, 190])"
      ]
     },
     "execution_count": 31,
     "metadata": {},
     "output_type": "execute_result"
    }
   ],
   "source": [
    "np.arange(0,200,10)"
   ]
  },
  {
   "cell_type": "code",
   "execution_count": 32,
   "metadata": {},
   "outputs": [
    {
     "data": {
      "image/png": "[encoded data removed]",
      "text/plain": [
       "<Figure size 432x288 with 1 Axes>"
      ]
     },
     "metadata": {
      "needs_background": "light"
     },
     "output_type": "display_data"
    }
   ],
   "source": [
    "ax = sns.barplot(x=\"lan\",y=\"runtime\", data=df, ci=\"sd\")\n",
    "ticks = ax.set_yticks(np.arange(0,200,50))"
   ]
  },
  {
   "cell_type": "markdown",
   "metadata": {},
   "source": [
    "Changing the figure size"
   ]
  },
  {
   "cell_type": "code",
   "execution_count": 33,
   "metadata": {
    "scrolled": true
   },
   "outputs": [
    {
     "data": {
      "image/png": "[encoded data removed]",
      "text/plain": [
       "<Figure size 720x288 with 1 Axes>"
      ]
     },
     "metadata": {
      "needs_background": "light"
     },
     "output_type": "display_data"
    }
   ],
   "source": [
    "ax = plt.figure(figsize=(10,4))\n",
    "ax = sns.barplot(x=\"lan\",y=\"runtime\", data=df, ci=\"sd\")\n",
    "ticks = ax.set_yticks(np.arange(0,200,50))"
   ]
  },
  {
   "cell_type": "markdown",
   "metadata": {},
   "source": [
    "A nice way to change colors is by using a palette. You can create a palette or choose from a number of default palettes (as explained [here](https://seaborn.pydata.org/tutorial/color_palettes.html)). In the example below we are creating a palette variable (\"val\" in our case but it can be anything you choose) and then setting it tothe  **palette** argument in the violinplot. "
   ]
  },
  {
   "cell_type": "markdown",
   "metadata": {},
   "source": [
    "https://colorbrewer2.org/"
   ]
  },
  {
   "cell_type": "code",
   "execution_count": 34,
   "metadata": {
    "scrolled": true
   },
   "outputs": [
    {
     "data": {
      "text/html": [
       "<svg  width=\"550\" height=\"55\"><rect x=\"0\" y=\"0\" width=\"55\" height=\"55\" style=\"fill:#f2fabc;stroke-width:2;stroke:rgb(255,255,255)\"/><rect x=\"55\" y=\"0\" width=\"55\" height=\"55\" style=\"fill:#dcf1b2;stroke-width:2;stroke:rgb(255,255,255)\"/><rect x=\"110\" y=\"0\" width=\"55\" height=\"55\" style=\"fill:#bbe4b5;stroke-width:2;stroke:rgb(255,255,255)\"/><rect x=\"165\" y=\"0\" width=\"55\" height=\"55\" style=\"fill:#85cfba;stroke-width:2;stroke:rgb(255,255,255)\"/><rect x=\"220\" y=\"0\" width=\"55\" height=\"55\" style=\"fill:#57bec1;stroke-width:2;stroke:rgb(255,255,255)\"/><rect x=\"275\" y=\"0\" width=\"55\" height=\"55\" style=\"fill:#34a9c3;stroke-width:2;stroke:rgb(255,255,255)\"/><rect x=\"330\" y=\"0\" width=\"55\" height=\"55\" style=\"fill:#1d8dbe;stroke-width:2;stroke:rgb(255,255,255)\"/><rect x=\"385\" y=\"0\" width=\"55\" height=\"55\" style=\"fill:#2166ac;stroke-width:2;stroke:rgb(255,255,255)\"/><rect x=\"440\" y=\"0\" width=\"55\" height=\"55\" style=\"fill:#24479d;stroke-width:2;stroke:rgb(255,255,255)\"/><rect x=\"495\" y=\"0\" width=\"55\" height=\"55\" style=\"fill:#1d2e83;stroke-width:2;stroke:rgb(255,255,255)\"/></svg>"
      ],
      "text/plain": [
       "[(0.9490657439446367, 0.9801922337562476, 0.7377931564782776),\n",
       " (0.8633756247597079, 0.946482122260669, 0.6993310265282584),\n",
       " (0.7338869665513265, 0.8956401384083045, 0.7104036908881199),\n",
       " (0.521291810841984, 0.812964244521338, 0.7310726643598615),\n",
       " (0.34262206843521725, 0.7462668204536717, 0.7558938869665514),\n",
       " (0.20396770472895037, 0.6613763936947328, 0.762968089196463),\n",
       " (0.11534025374855825, 0.552156862745098, 0.7451903114186851),\n",
       " (0.1301038062283737, 0.40156862745098043, 0.6743252595155709),\n",
       " (0.13988465974625144, 0.27690888119953866, 0.6151480199923107),\n",
       " (0.11343329488658209, 0.17880815071126488, 0.514878892733564)]"
      ]
     },
     "execution_count": 34,
     "metadata": {},
     "output_type": "execute_result"
    }
   ],
   "source": [
    "sns.color_palette(\"YlGnBu\",10)"
   ]
  },
  {
   "cell_type": "code",
   "execution_count": 35,
   "metadata": {},
   "outputs": [],
   "source": [
    "my_palette = sns.color_palette(\"YlGnBu\",3)"
   ]
  },
  {
   "cell_type": "code",
   "execution_count": 36,
   "metadata": {},
   "outputs": [
    {
     "data": {
      "image/png": "[encoded data removed]",
      "text/plain": [
       "<Figure size 432x288 with 1 Axes>"
      ]
     },
     "metadata": {
      "needs_background": "light"
     },
     "output_type": "display_data"
    }
   ],
   "source": [
    "ax = sns.barplot(x=\"lan\",y=\"runtime\", data=df, ci=\"sd\",palette=my_palette)"
   ]
  },
  {
   "cell_type": "code",
   "execution_count": 37,
   "metadata": {
    "scrolled": false
   },
   "outputs": [
    {
     "data": {
      "image/png": "[encoded data removed]",
      "text/plain": [
       "<Figure size 360x360 with 1 Axes>"
      ]
     },
     "metadata": {
      "needs_background": "light"
     },
     "output_type": "display_data"
    }
   ],
   "source": [
    "ax = sns.displot(data=df, x=\"revenue\",color=\"#7FDBFF\")"
   ]
  },
  {
   "cell_type": "markdown",
   "metadata": {},
   "source": [
    "There are many color palettes online, I like this one https://clrs.cc/"
   ]
  },
  {
   "cell_type": "markdown",
   "metadata": {},
   "source": [
    "## Changing the visual appearance of the graphs"
   ]
  },
  {
   "cell_type": "markdown",
   "metadata": {},
   "source": [
    "Beyond [Changing colors](https://seaborn.pydata.org/tutorial/color_palettes.html) you can also control many other [figure aesthetics](https://seaborn.pydata.org/tutorial/aesthetics.html).\n",
    "\n",
    "Seaborn comes with many readymade visualizations. But if you want to tweak how they look and create your own visualizatoins (for example with overlaid graphs), you can access more functions directly from Matplotlib. Here are some useful tutorials:\n",
    "\n",
    "* [Multiple subplots](https://jakevdp.github.io/PythonDataScienceHandbook/04.08-multiple-subplots.html)\n",
    "* [Text and annotation](https://jakevdp.github.io/PythonDataScienceHandbook/04.09-text-and-annotation.html)\n",
    "* [Customizing ticks](https://jakevdp.github.io/PythonDataScienceHandbook/04.09-text-and-annotation.html)\n",
    "\n",
    "In order to make interactive graphs, you can try out [Bokeh](https://docs.bokeh.org/en/latest/index.html)"
   ]
  }
 ],
 "metadata": {
  "kernelspec": {
   "display_name": "Python 3",
   "language": "python",
   "name": "python3"
  },
  "language_info": {
   "codemirror_mode": {
    "name": "ipython",
    "version": 3
   },
   "file_extension": ".py",
   "mimetype": "text/x-python",
   "name": "python",
   "nbconvert_exporter": "python",
   "pygments_lexer": "ipython3",
   "version": "3.7.9"
  }
 },
 "nbformat": 4,
 "nbformat_minor": 2
}
