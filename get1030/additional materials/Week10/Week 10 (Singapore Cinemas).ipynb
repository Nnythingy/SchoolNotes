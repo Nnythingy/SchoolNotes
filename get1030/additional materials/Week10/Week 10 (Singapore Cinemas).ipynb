{
 "cells": [
  {
   "cell_type": "markdown",
   "id": "baa935da",
   "metadata": {},
   "source": [
    "# Week 10\n",
    "\n",
    "Example geospatial analysis, with \"cinemas in Singapore\" data."
   ]
  },
  {
   "cell_type": "markdown",
   "id": "7a68694f",
   "metadata": {},
   "source": [
    "### 1 Setup\n",
    "\n",
    "We will use our trusty `pandas`, but will also use `geopandas` and `folium`. Please install them if you haven't done so (see the video for installation instructions). "
   ]
  },
  {
   "cell_type": "code",
   "execution_count": null,
   "id": "a5c22296",
   "metadata": {},
   "outputs": [],
   "source": [
    "!pip install geopandas\n",
    "!pip install folium"
   ]
  },
  {
   "cell_type": "markdown",
   "id": "5c6c6862",
   "metadata": {},
   "source": [
    "### 2 Loading data\n",
    "\n",
    "If you are on Colab, please download and unzip the folder witht the sample data."
   ]
  },
  {
   "cell_type": "code",
   "execution_count": null,
   "id": "1ab66c44",
   "metadata": {},
   "outputs": [],
   "source": [
    "!wget -q https://github.com/gei1002/sampledata/raw/main/week10_data.zip\n",
    "!unzip -q data.zip"
   ]
  },
  {
   "cell_type": "markdown",
   "id": "d5b8269a",
   "metadata": {},
   "source": [
    "### 3 Loading modules"
   ]
  },
  {
   "cell_type": "code",
   "execution_count": null,
   "id": "skilled-literacy",
   "metadata": {},
   "outputs": [],
   "source": [
    "import pandas as pd\n",
    "import geopandas as gpd\n",
    "import folium\n",
    "from folium import Choropleth"
   ]
  },
  {
   "cell_type": "markdown",
   "id": "21f9551c",
   "metadata": {},
   "source": [
    "### 4 Analysis"
   ]
  },
  {
   "cell_type": "markdown",
   "id": "vital-cache",
   "metadata": {},
   "source": [
    "Here we load the Singapore shapefile as a geopandas dataframe (note that we only need to specify the directory of the shapefile)"
   ]
  },
  {
   "cell_type": "code",
   "execution_count": null,
   "id": "median-peace",
   "metadata": {},
   "outputs": [],
   "source": [
    "sg = gpd.read_file(\"singapore/shp\")"
   ]
  },
  {
   "cell_type": "code",
   "execution_count": null,
   "id": "later-translation",
   "metadata": {
    "scrolled": true
   },
   "outputs": [],
   "source": [
    "sg.head()"
   ]
  },
  {
   "cell_type": "markdown",
   "id": "coastal-female",
   "metadata": {},
   "source": [
    "We need to change the Coordinate Reference System to EPSG 4316 (we **always** need this CRS for folium), but some shapefiles have this CRS. Here we don't, so we change the settings. We use `inplace=True` to change our original dataframe called `sg`."
   ]
  },
  {
   "cell_type": "code",
   "execution_count": null,
   "id": "revolutionary-calgary",
   "metadata": {},
   "outputs": [],
   "source": [
    "sg.to_crs(epsg=4326, inplace=True)"
   ]
  },
  {
   "cell_type": "code",
   "execution_count": null,
   "id": "pleasant-workplace",
   "metadata": {
    "scrolled": false
   },
   "outputs": [],
   "source": [
    "sg.head()"
   ]
  },
  {
   "cell_type": "markdown",
   "id": "affected-benchmark",
   "metadata": {},
   "source": [
    "We then set **REGION_N** as the index."
   ]
  },
  {
   "cell_type": "code",
   "execution_count": null,
   "id": "streaming-testing",
   "metadata": {},
   "outputs": [],
   "source": [
    "sg.set_index(\"REGION_N\", inplace=True)"
   ]
  },
  {
   "cell_type": "code",
   "execution_count": null,
   "id": "accurate-fabric",
   "metadata": {
    "scrolled": false
   },
   "outputs": [],
   "source": [
    "sg.head()"
   ]
  },
  {
   "cell_type": "markdown",
   "id": "satellite-release",
   "metadata": {},
   "source": [
    "Next stept is to load our cinemas data into a dataframe. This time we are using a csv file, but the syntax is almost the same, just note it is `read_csv()` instead of `read_excel()`."
   ]
  },
  {
   "cell_type": "code",
   "execution_count": null,
   "id": "elect-calculation",
   "metadata": {},
   "outputs": [],
   "source": [
    "df = pd.read_csv(\"data/cinemas_singapore.csv\")"
   ]
  },
  {
   "cell_type": "code",
   "execution_count": null,
   "id": "still-revision",
   "metadata": {
    "scrolled": true
   },
   "outputs": [],
   "source": [
    "df.head()"
   ]
  },
  {
   "cell_type": "markdown",
   "id": "caroline-toilet",
   "metadata": {},
   "source": [
    "We also need to set the index to **Region**, to match our geopandas dataframe. The values in the index (\"North Region\", \"West Region\", etc.) need to be the same in both cases, even if the name of the original column is not (i.e.,  \"\"REGION_N\" in `sg` and \"Region\" in `df`)"
   ]
  },
  {
   "cell_type": "code",
   "execution_count": null,
   "id": "musical-passing",
   "metadata": {},
   "outputs": [],
   "source": [
    "df.set_index(\"Region\",inplace=True)"
   ]
  },
  {
   "cell_type": "code",
   "execution_count": null,
   "id": "powerful-france",
   "metadata": {},
   "outputs": [],
   "source": [
    "df"
   ]
  },
  {
   "cell_type": "markdown",
   "id": "stylish-sponsorship",
   "metadata": {},
   "source": [
    "### 5 Creating the choropleth\n",
    "\n",
    "Some notes for the `Map()` function:\n",
    "- `location` indicates the starting position of your map in latitude and longitude, separated by a comma, inside square brackets.\n",
    "- `zoom_start` indicates the level at which you want the map to be initially zoomed.\n",
    "- `tiles` indicates which base map you want to use, it takes in the following options:\n",
    "    - openStreetMap\n",
    "    - cartodbPositron\n",
    "    - cartodbDark_Matter\n",
    "    - stamenTerrain\n",
    "    - stamenToner\n",
    "    - stamenWatercolor\n",
    "    \n",
    "For the `Choropleth()` function:\n",
    "- `geo_data` specifies the boundaries of each geographical area. You always need to append `__geo_interface__` to the name of your geopandas dataframe.\n",
    "- `data` specifies the quantitative values that will be used to determine the color of each geographical area.  \n",
    "- `key_on` will always be set to `feature.id`.  \n",
    "- `fill_color` sets the color scale. You can use most Matplotlib color maps: https://matplotlib.org/stable/tutorials/colors/colormaps.html.\n",
    "- `legend_name` labels the legend in the top right corner of the map.\n"
   ]
  },
  {
   "cell_type": "code",
   "execution_count": null,
   "id": "geographic-aside",
   "metadata": {},
   "outputs": [],
   "source": [
    "sg_map = folium.Map(location=[1.35,103.8198], zoom_start=11, tiles=\"openStreetMap\")\n",
    "\n",
    "Choropleth(geo_data=sg.__geo_interface__,\n",
    "          data=df[\"Cinemas\"],\n",
    "          key_on=\"feature.id\",\n",
    "          fill_color=\"Blues\",\n",
    "          leged_name=\"Cinemas in Singapore\").add_to(sg_map)\n",
    "\n",
    "sg_map"
   ]
  }
 ],
 "metadata": {
  "kernelspec": {
   "display_name": "Python 3",
   "language": "python",
   "name": "python3"
  },
  "language_info": {
   "codemirror_mode": {
    "name": "ipython",
    "version": 3
   },
   "file_extension": ".py",
   "mimetype": "text/x-python",
   "name": "python",
   "nbconvert_exporter": "python",
   "pygments_lexer": "ipython3",
   "version": "3.11.5"
  }
 },
 "nbformat": 4,
 "nbformat_minor": 5
}
