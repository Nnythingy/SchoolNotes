{
 "cells": [
  {
   "cell_type": "markdown",
   "id": "stone-rainbow",
   "metadata": {},
   "source": [
    "Import pandas, seaborn and a new helper function. Note: **networkprocessing.py** must be in the same working directory as this Jupyter Notebook."
   ]
  },
  {
   "cell_type": "code",
   "execution_count": 1,
   "id": "spectacular-wealth",
   "metadata": {},
   "outputs": [],
   "source": [
    "import pandas as pd\n",
    "import seaborn as sns\n",
    "import networkprocessing as np"
   ]
  },
  {
   "cell_type": "markdown",
   "id": "attractive-upgrade",
   "metadata": {},
   "source": [
    "To create a single network, pass a text file as the parameter of **np.make_network**. Make user you include the extension .txt"
   ]
  },
  {
   "cell_type": "code",
   "execution_count": 2,
   "id": "altered-brave",
   "metadata": {
    "scrolled": true
   },
   "outputs": [
    {
     "name": "stdout",
     "output_type": "stream",
     "text": [
      "Processing example.txt\n"
     ]
    }
   ],
   "source": [
    "np.make_network(\"example.txt\")"
   ]
  },
  {
   "cell_type": "markdown",
   "id": "strategic-guess",
   "metadata": {},
   "source": [
    "To create multiple networks, pass the name of the directory as the parameter."
   ]
  },
  {
   "cell_type": "code",
   "execution_count": 106,
   "id": "capital-revolution",
   "metadata": {
    "scrolled": true
   },
   "outputs": [
    {
     "name": "stdout",
     "output_type": "stream",
     "text": [
      "Processing avengers/phase3.txt\n",
      "Processing avengers/phase2.txt\n",
      "Processing avengers/phase1.txt\n"
     ]
    }
   ],
   "source": [
    "np.make_network(\"avengers\")"
   ]
  },
  {
   "cell_type": "markdown",
   "id": "senior-bangladesh",
   "metadata": {},
   "source": [
    "You can then read the result **nodeInfo.xlsx** file into a dataframe. This file is inside a newly created folder."
   ]
  },
  {
   "cell_type": "code",
   "execution_count": 72,
   "id": "posted-explosion",
   "metadata": {},
   "outputs": [],
   "source": [
    "df = pd.read_excel(\"avengers_analysis/nodeInfo.xlsx\",index_col=0)"
   ]
  },
  {
   "cell_type": "markdown",
   "id": "editorial-valuation",
   "metadata": {},
   "source": [
    "You can inspect the first few lines, and generate some basic visualizations."
   ]
  },
  {
   "cell_type": "code",
   "execution_count": 73,
   "id": "alert-details",
   "metadata": {
    "scrolled": false
   },
   "outputs": [
    {
     "data": {
      "text/html": [
       "<div>\n",
       "<style scoped>\n",
       "    .dataframe tbody tr th:only-of-type {\n",
       "        vertical-align: middle;\n",
       "    }\n",
       "\n",
       "    .dataframe tbody tr th {\n",
       "        vertical-align: top;\n",
       "    }\n",
       "\n",
       "    .dataframe thead th {\n",
       "        text-align: right;\n",
       "    }\n",
       "</style>\n",
       "<table border=\"1\" class=\"dataframe\">\n",
       "  <thead>\n",
       "    <tr style=\"text-align: right;\">\n",
       "      <th></th>\n",
       "      <th>label</th>\n",
       "      <th>degree</th>\n",
       "      <th>weighted_degree</th>\n",
       "      <th>betweenness</th>\n",
       "      <th>normalized_betweenness</th>\n",
       "      <th>eccentricity</th>\n",
       "      <th>closeness</th>\n",
       "      <th>network</th>\n",
       "    </tr>\n",
       "  </thead>\n",
       "  <tbody>\n",
       "    <tr>\n",
       "      <th>0</th>\n",
       "      <td>Anthony Russo</td>\n",
       "      <td>4</td>\n",
       "      <td>8</td>\n",
       "      <td>0.000000</td>\n",
       "      <td>0.000000</td>\n",
       "      <td>2</td>\n",
       "      <td>0.537037</td>\n",
       "      <td>phase3</td>\n",
       "    </tr>\n",
       "    <tr>\n",
       "      <th>1</th>\n",
       "      <td>Joe Russo</td>\n",
       "      <td>4</td>\n",
       "      <td>8</td>\n",
       "      <td>0.000000</td>\n",
       "      <td>0.000000</td>\n",
       "      <td>2</td>\n",
       "      <td>0.537037</td>\n",
       "      <td>phase3</td>\n",
       "    </tr>\n",
       "    <tr>\n",
       "      <th>2</th>\n",
       "      <td>Christopher Markus</td>\n",
       "      <td>4</td>\n",
       "      <td>8</td>\n",
       "      <td>0.000000</td>\n",
       "      <td>0.000000</td>\n",
       "      <td>2</td>\n",
       "      <td>0.537037</td>\n",
       "      <td>phase3</td>\n",
       "    </tr>\n",
       "    <tr>\n",
       "      <th>3</th>\n",
       "      <td>Stephen McFeely</td>\n",
       "      <td>4</td>\n",
       "      <td>8</td>\n",
       "      <td>0.000000</td>\n",
       "      <td>0.000000</td>\n",
       "      <td>2</td>\n",
       "      <td>0.537037</td>\n",
       "      <td>phase3</td>\n",
       "    </tr>\n",
       "    <tr>\n",
       "      <th>4</th>\n",
       "      <td>Kevin Feige</td>\n",
       "      <td>29</td>\n",
       "      <td>43</td>\n",
       "      <td>329.333333</td>\n",
       "      <td>0.811166</td>\n",
       "      <td>1</td>\n",
       "      <td>1.000000</td>\n",
       "      <td>phase3</td>\n",
       "    </tr>\n",
       "  </tbody>\n",
       "</table>\n",
       "</div>"
      ],
      "text/plain": [
       "                label  degree  weighted_degree  betweenness  \\\n",
       "0       Anthony Russo       4                8     0.000000   \n",
       "1           Joe Russo       4                8     0.000000   \n",
       "2  Christopher Markus       4                8     0.000000   \n",
       "3     Stephen McFeely       4                8     0.000000   \n",
       "4         Kevin Feige      29               43   329.333333   \n",
       "\n",
       "   normalized_betweenness  eccentricity  closeness network  \n",
       "0                0.000000             2   0.537037  phase3  \n",
       "1                0.000000             2   0.537037  phase3  \n",
       "2                0.000000             2   0.537037  phase3  \n",
       "3                0.000000             2   0.537037  phase3  \n",
       "4                0.811166             1   1.000000  phase3  "
      ]
     },
     "execution_count": 73,
     "metadata": {},
     "output_type": "execute_result"
    }
   ],
   "source": [
    "df.head()"
   ]
  },
  {
   "cell_type": "code",
   "execution_count": 74,
   "id": "removed-freight",
   "metadata": {
    "scrolled": true
   },
   "outputs": [
    {
     "data": {
      "text/plain": [
       "<AxesSubplot:xlabel='network', ylabel='weighted_degree'>"
      ]
     },
     "execution_count": 74,
     "metadata": {},
     "output_type": "execute_result"
    },
    {
     "data": {
      "image/png": "[encoded data removed]",
      "text/plain": [
       "<Figure size 432x288 with 1 Axes>"
      ]
     },
     "metadata": {
      "needs_background": "light"
     },
     "output_type": "display_data"
    }
   ],
   "source": [
    "sns.barplot(data=df, x=\"network\",y=\"weighted_degree\")"
   ]
  },
  {
   "cell_type": "code",
   "execution_count": 84,
   "id": "finnish-guest",
   "metadata": {
    "scrolled": false
   },
   "outputs": [
    {
     "data": {
      "text/plain": [
       "<AxesSubplot:xlabel='network', ylabel='normalized_betweenness'>"
      ]
     },
     "execution_count": 84,
     "metadata": {},
     "output_type": "execute_result"
    },
    {
     "data": {
      "image/png": "[encoded data removed]",
      "text/plain": [
       "<Figure size 432x288 with 1 Axes>"
      ]
     },
     "metadata": {
      "needs_background": "light"
     },
     "output_type": "display_data"
    }
   ],
   "source": [
    "sns.swarmplot(data=df, x=\"network\",y=\"normalized_betweenness\",size=3)"
   ]
  },
  {
   "cell_type": "markdown",
   "id": "wound-workstation",
   "metadata": {},
   "source": [
    "In some cases, you might want to order the data to figure out what is going on."
   ]
  },
  {
   "cell_type": "code",
   "execution_count": 107,
   "id": "piano-catalog",
   "metadata": {
    "scrolled": true
   },
   "outputs": [
    {
     "data": {
      "text/html": [
       "<div>\n",
       "<style scoped>\n",
       "    .dataframe tbody tr th:only-of-type {\n",
       "        vertical-align: middle;\n",
       "    }\n",
       "\n",
       "    .dataframe tbody tr th {\n",
       "        vertical-align: top;\n",
       "    }\n",
       "\n",
       "    .dataframe thead th {\n",
       "        text-align: right;\n",
       "    }\n",
       "</style>\n",
       "<table border=\"1\" class=\"dataframe\">\n",
       "  <thead>\n",
       "    <tr style=\"text-align: right;\">\n",
       "      <th></th>\n",
       "      <th>Unnamed: 0</th>\n",
       "      <th>label</th>\n",
       "      <th>degree</th>\n",
       "      <th>weighted_degree</th>\n",
       "      <th>betweenness</th>\n",
       "      <th>normalized_betweenness</th>\n",
       "      <th>eccentricity</th>\n",
       "      <th>closeness</th>\n",
       "      <th>network</th>\n",
       "    </tr>\n",
       "  </thead>\n",
       "  <tbody>\n",
       "    <tr>\n",
       "      <th>4</th>\n",
       "      <td>4</td>\n",
       "      <td>Kevin Feige</td>\n",
       "      <td>29</td>\n",
       "      <td>43</td>\n",
       "      <td>329.333333</td>\n",
       "      <td>0.811166</td>\n",
       "      <td>1</td>\n",
       "      <td>1.000000</td>\n",
       "      <td>phase3</td>\n",
       "    </tr>\n",
       "    <tr>\n",
       "      <th>32</th>\n",
       "      <td>32</td>\n",
       "      <td>Kevin Feige</td>\n",
       "      <td>16</td>\n",
       "      <td>20</td>\n",
       "      <td>94.333333</td>\n",
       "      <td>0.786111</td>\n",
       "      <td>1</td>\n",
       "      <td>1.000000</td>\n",
       "      <td>phase2</td>\n",
       "    </tr>\n",
       "    <tr>\n",
       "      <th>53</th>\n",
       "      <td>53</td>\n",
       "      <td>Kevin Feige</td>\n",
       "      <td>18</td>\n",
       "      <td>20</td>\n",
       "      <td>112.000000</td>\n",
       "      <td>0.732026</td>\n",
       "      <td>1</td>\n",
       "      <td>1.000000</td>\n",
       "      <td>phase1</td>\n",
       "    </tr>\n",
       "    <tr>\n",
       "      <th>52</th>\n",
       "      <td>52</td>\n",
       "      <td>Avi Arad</td>\n",
       "      <td>9</td>\n",
       "      <td>10</td>\n",
       "      <td>7.500000</td>\n",
       "      <td>0.049020</td>\n",
       "      <td>2</td>\n",
       "      <td>0.666667</td>\n",
       "      <td>phase1</td>\n",
       "    </tr>\n",
       "    <tr>\n",
       "      <th>13</th>\n",
       "      <td>13</td>\n",
       "      <td>Chris McKenna</td>\n",
       "      <td>12</td>\n",
       "      <td>18</td>\n",
       "      <td>8.333333</td>\n",
       "      <td>0.020525</td>\n",
       "      <td>2</td>\n",
       "      <td>0.630435</td>\n",
       "      <td>phase3</td>\n",
       "    </tr>\n",
       "    <tr>\n",
       "      <th>...</th>\n",
       "      <td>...</td>\n",
       "      <td>...</td>\n",
       "      <td>...</td>\n",
       "      <td>...</td>\n",
       "      <td>...</td>\n",
       "      <td>...</td>\n",
       "      <td>...</td>\n",
       "      <td>...</td>\n",
       "      <td>...</td>\n",
       "    </tr>\n",
       "    <tr>\n",
       "      <th>28</th>\n",
       "      <td>28</td>\n",
       "      <td>Ryan Fleck</td>\n",
       "      <td>5</td>\n",
       "      <td>10</td>\n",
       "      <td>0.000000</td>\n",
       "      <td>0.000000</td>\n",
       "      <td>2</td>\n",
       "      <td>0.527273</td>\n",
       "      <td>phase3</td>\n",
       "    </tr>\n",
       "    <tr>\n",
       "      <th>29</th>\n",
       "      <td>29</td>\n",
       "      <td>Geneva Robertson-Dworet</td>\n",
       "      <td>3</td>\n",
       "      <td>5</td>\n",
       "      <td>0.000000</td>\n",
       "      <td>0.000000</td>\n",
       "      <td>2</td>\n",
       "      <td>0.527273</td>\n",
       "      <td>phase3</td>\n",
       "    </tr>\n",
       "    <tr>\n",
       "      <th>30</th>\n",
       "      <td>30</td>\n",
       "      <td>Shane Black</td>\n",
       "      <td>4</td>\n",
       "      <td>6</td>\n",
       "      <td>0.000000</td>\n",
       "      <td>0.000000</td>\n",
       "      <td>2</td>\n",
       "      <td>0.533333</td>\n",
       "      <td>phase2</td>\n",
       "    </tr>\n",
       "    <tr>\n",
       "      <th>31</th>\n",
       "      <td>31</td>\n",
       "      <td>Drew Pearce</td>\n",
       "      <td>2</td>\n",
       "      <td>3</td>\n",
       "      <td>0.000000</td>\n",
       "      <td>0.000000</td>\n",
       "      <td>2</td>\n",
       "      <td>0.533333</td>\n",
       "      <td>phase2</td>\n",
       "    </tr>\n",
       "    <tr>\n",
       "      <th>65</th>\n",
       "      <td>65</td>\n",
       "      <td>Joss Whedon</td>\n",
       "      <td>1</td>\n",
       "      <td>1</td>\n",
       "      <td>0.000000</td>\n",
       "      <td>0.000000</td>\n",
       "      <td>2</td>\n",
       "      <td>0.514286</td>\n",
       "      <td>phase1</td>\n",
       "    </tr>\n",
       "  </tbody>\n",
       "</table>\n",
       "<p>66 rows × 9 columns</p>\n",
       "</div>"
      ],
      "text/plain": [
       "    Unnamed: 0                    label  degree  weighted_degree  betweenness  \\\n",
       "4            4              Kevin Feige      29               43   329.333333   \n",
       "32          32              Kevin Feige      16               20    94.333333   \n",
       "53          53              Kevin Feige      18               20   112.000000   \n",
       "52          52                 Avi Arad       9               10     7.500000   \n",
       "13          13            Chris McKenna      12               18     8.333333   \n",
       "..         ...                      ...     ...              ...          ...   \n",
       "28          28               Ryan Fleck       5               10     0.000000   \n",
       "29          29  Geneva Robertson-Dworet       3                5     0.000000   \n",
       "30          30              Shane Black       4                6     0.000000   \n",
       "31          31              Drew Pearce       2                3     0.000000   \n",
       "65          65              Joss Whedon       1                1     0.000000   \n",
       "\n",
       "    normalized_betweenness  eccentricity  closeness network  \n",
       "4                 0.811166             1   1.000000  phase3  \n",
       "32                0.786111             1   1.000000  phase2  \n",
       "53                0.732026             1   1.000000  phase1  \n",
       "52                0.049020             2   0.666667  phase1  \n",
       "13                0.020525             2   0.630435  phase3  \n",
       "..                     ...           ...        ...     ...  \n",
       "28                0.000000             2   0.527273  phase3  \n",
       "29                0.000000             2   0.527273  phase3  \n",
       "30                0.000000             2   0.533333  phase2  \n",
       "31                0.000000             2   0.533333  phase2  \n",
       "65                0.000000             2   0.514286  phase1  \n",
       "\n",
       "[66 rows x 9 columns]"
      ]
     },
     "execution_count": 107,
     "metadata": {},
     "output_type": "execute_result"
    }
   ],
   "source": [
    "df.sort_values(by=\"normalized_betweenness\",ascending=False)"
   ]
  },
  {
   "cell_type": "markdown",
   "id": "aboriginal-metro",
   "metadata": {},
   "source": [
    "### Selecting a portion of a dataframe"
   ]
  },
  {
   "cell_type": "markdown",
   "id": "genuine-african",
   "metadata": {},
   "source": [
    "In some cases, you only want to see certain values. For example, only the node information for the \"phase1\" films (see the video for the full explanation)."
   ]
  },
  {
   "cell_type": "code",
   "execution_count": 108,
   "id": "limited-beast",
   "metadata": {
    "scrolled": true
   },
   "outputs": [],
   "source": [
    "phase1 = df[\"network\"] == \"phase1\""
   ]
  },
  {
   "cell_type": "code",
   "execution_count": 109,
   "id": "strategic-valley",
   "metadata": {
    "scrolled": false
   },
   "outputs": [
    {
     "data": {
      "text/html": [
       "<div>\n",
       "<style scoped>\n",
       "    .dataframe tbody tr th:only-of-type {\n",
       "        vertical-align: middle;\n",
       "    }\n",
       "\n",
       "    .dataframe tbody tr th {\n",
       "        vertical-align: top;\n",
       "    }\n",
       "\n",
       "    .dataframe thead th {\n",
       "        text-align: right;\n",
       "    }\n",
       "</style>\n",
       "<table border=\"1\" class=\"dataframe\">\n",
       "  <thead>\n",
       "    <tr style=\"text-align: right;\">\n",
       "      <th></th>\n",
       "      <th>label</th>\n",
       "      <th>degree</th>\n",
       "      <th>weighted_degree</th>\n",
       "      <th>betweenness</th>\n",
       "      <th>normalized_betweenness</th>\n",
       "      <th>eccentricity</th>\n",
       "      <th>closeness</th>\n",
       "      <th>network</th>\n",
       "    </tr>\n",
       "  </thead>\n",
       "  <tbody>\n",
       "    <tr>\n",
       "      <th>47</th>\n",
       "      <td>Jon Favreau</td>\n",
       "      <td>7</td>\n",
       "      <td>8</td>\n",
       "      <td>2.5</td>\n",
       "      <td>0.016340</td>\n",
       "      <td>2</td>\n",
       "      <td>0.620690</td>\n",
       "      <td>phase1</td>\n",
       "    </tr>\n",
       "    <tr>\n",
       "      <th>48</th>\n",
       "      <td>Mark Fergus</td>\n",
       "      <td>6</td>\n",
       "      <td>6</td>\n",
       "      <td>0.0</td>\n",
       "      <td>0.000000</td>\n",
       "      <td>2</td>\n",
       "      <td>0.600000</td>\n",
       "      <td>phase1</td>\n",
       "    </tr>\n",
       "    <tr>\n",
       "      <th>49</th>\n",
       "      <td>Hawk Ostby</td>\n",
       "      <td>6</td>\n",
       "      <td>6</td>\n",
       "      <td>0.0</td>\n",
       "      <td>0.000000</td>\n",
       "      <td>2</td>\n",
       "      <td>0.600000</td>\n",
       "      <td>phase1</td>\n",
       "    </tr>\n",
       "    <tr>\n",
       "      <th>50</th>\n",
       "      <td>Art Marcum</td>\n",
       "      <td>6</td>\n",
       "      <td>6</td>\n",
       "      <td>0.0</td>\n",
       "      <td>0.000000</td>\n",
       "      <td>2</td>\n",
       "      <td>0.600000</td>\n",
       "      <td>phase1</td>\n",
       "    </tr>\n",
       "    <tr>\n",
       "      <th>51</th>\n",
       "      <td>Matt Holloway</td>\n",
       "      <td>6</td>\n",
       "      <td>6</td>\n",
       "      <td>0.0</td>\n",
       "      <td>0.000000</td>\n",
       "      <td>2</td>\n",
       "      <td>0.600000</td>\n",
       "      <td>phase1</td>\n",
       "    </tr>\n",
       "    <tr>\n",
       "      <th>52</th>\n",
       "      <td>Avi Arad</td>\n",
       "      <td>9</td>\n",
       "      <td>10</td>\n",
       "      <td>7.5</td>\n",
       "      <td>0.049020</td>\n",
       "      <td>2</td>\n",
       "      <td>0.666667</td>\n",
       "      <td>phase1</td>\n",
       "    </tr>\n",
       "    <tr>\n",
       "      <th>53</th>\n",
       "      <td>Kevin Feige</td>\n",
       "      <td>18</td>\n",
       "      <td>20</td>\n",
       "      <td>112.0</td>\n",
       "      <td>0.732026</td>\n",
       "      <td>1</td>\n",
       "      <td>1.000000</td>\n",
       "      <td>phase1</td>\n",
       "    </tr>\n",
       "    <tr>\n",
       "      <th>54</th>\n",
       "      <td>Louis Leterrier</td>\n",
       "      <td>4</td>\n",
       "      <td>4</td>\n",
       "      <td>0.0</td>\n",
       "      <td>0.000000</td>\n",
       "      <td>2</td>\n",
       "      <td>0.562500</td>\n",
       "      <td>phase1</td>\n",
       "    </tr>\n",
       "    <tr>\n",
       "      <th>55</th>\n",
       "      <td>Zak Penn</td>\n",
       "      <td>4</td>\n",
       "      <td>4</td>\n",
       "      <td>0.0</td>\n",
       "      <td>0.000000</td>\n",
       "      <td>2</td>\n",
       "      <td>0.562500</td>\n",
       "      <td>phase1</td>\n",
       "    </tr>\n",
       "    <tr>\n",
       "      <th>56</th>\n",
       "      <td>Gale Anne Hurd</td>\n",
       "      <td>4</td>\n",
       "      <td>4</td>\n",
       "      <td>0.0</td>\n",
       "      <td>0.000000</td>\n",
       "      <td>2</td>\n",
       "      <td>0.562500</td>\n",
       "      <td>phase1</td>\n",
       "    </tr>\n",
       "    <tr>\n",
       "      <th>57</th>\n",
       "      <td>Justin Theroux</td>\n",
       "      <td>2</td>\n",
       "      <td>2</td>\n",
       "      <td>0.0</td>\n",
       "      <td>0.000000</td>\n",
       "      <td>2</td>\n",
       "      <td>0.529412</td>\n",
       "      <td>phase1</td>\n",
       "    </tr>\n",
       "    <tr>\n",
       "      <th>58</th>\n",
       "      <td>Kenneth Branagh</td>\n",
       "      <td>4</td>\n",
       "      <td>4</td>\n",
       "      <td>0.0</td>\n",
       "      <td>0.000000</td>\n",
       "      <td>2</td>\n",
       "      <td>0.562500</td>\n",
       "      <td>phase1</td>\n",
       "    </tr>\n",
       "    <tr>\n",
       "      <th>59</th>\n",
       "      <td>Ashley Edward Miller</td>\n",
       "      <td>4</td>\n",
       "      <td>4</td>\n",
       "      <td>0.0</td>\n",
       "      <td>0.000000</td>\n",
       "      <td>2</td>\n",
       "      <td>0.562500</td>\n",
       "      <td>phase1</td>\n",
       "    </tr>\n",
       "    <tr>\n",
       "      <th>60</th>\n",
       "      <td>Zack Stentz</td>\n",
       "      <td>4</td>\n",
       "      <td>4</td>\n",
       "      <td>0.0</td>\n",
       "      <td>0.000000</td>\n",
       "      <td>2</td>\n",
       "      <td>0.562500</td>\n",
       "      <td>phase1</td>\n",
       "    </tr>\n",
       "    <tr>\n",
       "      <th>61</th>\n",
       "      <td>Don Payne</td>\n",
       "      <td>4</td>\n",
       "      <td>4</td>\n",
       "      <td>0.0</td>\n",
       "      <td>0.000000</td>\n",
       "      <td>2</td>\n",
       "      <td>0.562500</td>\n",
       "      <td>phase1</td>\n",
       "    </tr>\n",
       "    <tr>\n",
       "      <th>62</th>\n",
       "      <td>Joe Johnston</td>\n",
       "      <td>3</td>\n",
       "      <td>3</td>\n",
       "      <td>0.0</td>\n",
       "      <td>0.000000</td>\n",
       "      <td>2</td>\n",
       "      <td>0.545455</td>\n",
       "      <td>phase1</td>\n",
       "    </tr>\n",
       "    <tr>\n",
       "      <th>63</th>\n",
       "      <td>Christopher Markus</td>\n",
       "      <td>3</td>\n",
       "      <td>3</td>\n",
       "      <td>0.0</td>\n",
       "      <td>0.000000</td>\n",
       "      <td>2</td>\n",
       "      <td>0.545455</td>\n",
       "      <td>phase1</td>\n",
       "    </tr>\n",
       "    <tr>\n",
       "      <th>64</th>\n",
       "      <td>Stephen McFeely</td>\n",
       "      <td>3</td>\n",
       "      <td>3</td>\n",
       "      <td>0.0</td>\n",
       "      <td>0.000000</td>\n",
       "      <td>2</td>\n",
       "      <td>0.545455</td>\n",
       "      <td>phase1</td>\n",
       "    </tr>\n",
       "    <tr>\n",
       "      <th>65</th>\n",
       "      <td>Joss Whedon</td>\n",
       "      <td>1</td>\n",
       "      <td>1</td>\n",
       "      <td>0.0</td>\n",
       "      <td>0.000000</td>\n",
       "      <td>2</td>\n",
       "      <td>0.514286</td>\n",
       "      <td>phase1</td>\n",
       "    </tr>\n",
       "  </tbody>\n",
       "</table>\n",
       "</div>"
      ],
      "text/plain": [
       "                   label  degree  weighted_degree  betweenness  \\\n",
       "47           Jon Favreau       7                8          2.5   \n",
       "48           Mark Fergus       6                6          0.0   \n",
       "49            Hawk Ostby       6                6          0.0   \n",
       "50            Art Marcum       6                6          0.0   \n",
       "51         Matt Holloway       6                6          0.0   \n",
       "52              Avi Arad       9               10          7.5   \n",
       "53           Kevin Feige      18               20        112.0   \n",
       "54       Louis Leterrier       4                4          0.0   \n",
       "55              Zak Penn       4                4          0.0   \n",
       "56        Gale Anne Hurd       4                4          0.0   \n",
       "57        Justin Theroux       2                2          0.0   \n",
       "58       Kenneth Branagh       4                4          0.0   \n",
       "59  Ashley Edward Miller       4                4          0.0   \n",
       "60           Zack Stentz       4                4          0.0   \n",
       "61             Don Payne       4                4          0.0   \n",
       "62          Joe Johnston       3                3          0.0   \n",
       "63    Christopher Markus       3                3          0.0   \n",
       "64       Stephen McFeely       3                3          0.0   \n",
       "65           Joss Whedon       1                1          0.0   \n",
       "\n",
       "    normalized_betweenness  eccentricity  closeness network  \n",
       "47                0.016340             2   0.620690  phase1  \n",
       "48                0.000000             2   0.600000  phase1  \n",
       "49                0.000000             2   0.600000  phase1  \n",
       "50                0.000000             2   0.600000  phase1  \n",
       "51                0.000000             2   0.600000  phase1  \n",
       "52                0.049020             2   0.666667  phase1  \n",
       "53                0.732026             1   1.000000  phase1  \n",
       "54                0.000000             2   0.562500  phase1  \n",
       "55                0.000000             2   0.562500  phase1  \n",
       "56                0.000000             2   0.562500  phase1  \n",
       "57                0.000000             2   0.529412  phase1  \n",
       "58                0.000000             2   0.562500  phase1  \n",
       "59                0.000000             2   0.562500  phase1  \n",
       "60                0.000000             2   0.562500  phase1  \n",
       "61                0.000000             2   0.562500  phase1  \n",
       "62                0.000000             2   0.545455  phase1  \n",
       "63                0.000000             2   0.545455  phase1  \n",
       "64                0.000000             2   0.545455  phase1  \n",
       "65                0.000000             2   0.514286  phase1  "
      ]
     },
     "execution_count": 109,
     "metadata": {},
     "output_type": "execute_result"
    }
   ],
   "source": [
    "df.loc[phase1]"
   ]
  },
  {
   "cell_type": "markdown",
   "id": "close-looking",
   "metadata": {},
   "source": [
    "You can use this to visualize that section of the dataframe on its own."
   ]
  },
  {
   "cell_type": "code",
   "execution_count": 110,
   "id": "fatal-executive",
   "metadata": {
    "scrolled": false
   },
   "outputs": [
    {
     "data": {
      "text/plain": [
       "<seaborn.axisgrid.FacetGrid at 0x1a25d62290>"
      ]
     },
     "execution_count": 110,
     "metadata": {},
     "output_type": "execute_result"
    },
    {
     "data": {
      "image/png": "[encoded data removed]",
      "text/plain": [
       "<Figure size 360x360 with 1 Axes>"
      ]
     },
     "metadata": {
      "needs_background": "light"
     },
     "output_type": "display_data"
    }
   ],
   "source": [
    "sns.displot(data=df.loc[phase1],x=\"degree\")"
   ]
  },
  {
   "cell_type": "markdown",
   "id": "elect-local",
   "metadata": {},
   "source": [
    "### Pairplots"
   ]
  },
  {
   "cell_type": "markdown",
   "id": "hundred-phenomenon",
   "metadata": {},
   "source": [
    "Pairplots let you compare many features in a grid. If many values are bunched together, you can set the \"alpha\" keyword to your desired level of transparency."
   ]
  },
  {
   "cell_type": "code",
   "execution_count": 67,
   "id": "cheap-chosen",
   "metadata": {},
   "outputs": [
    {
     "data": {
      "text/plain": [
       "<seaborn.axisgrid.PairGrid at 0x1a2cdd1b10>"
      ]
     },
     "execution_count": 67,
     "metadata": {},
     "output_type": "execute_result"
    },
    {
     "data": {
      "image/png": "[encoded data removed]",
      "text/plain": [
       "<Figure size 612.5x540 with 12 Axes>"
      ]
     },
     "metadata": {
      "needs_background": "light"
     },
     "output_type": "display_data"
    }
   ],
   "source": [
    "sns.pairplot(df,vars=[\"weighted_degree\",\"closeness\",\"normalized_betweenness\"],\n",
    "             hue=\"network\",plot_kws={'alpha': 0.7})"
   ]
  },
  {
   "cell_type": "code",
   "execution_count": 105,
   "id": "representative-restaurant",
   "metadata": {},
   "outputs": [
    {
     "data": {
      "text/html": [
       "<div>\n",
       "<style scoped>\n",
       "    .dataframe tbody tr th:only-of-type {\n",
       "        vertical-align: middle;\n",
       "    }\n",
       "\n",
       "    .dataframe tbody tr th {\n",
       "        vertical-align: top;\n",
       "    }\n",
       "\n",
       "    .dataframe thead th {\n",
       "        text-align: right;\n",
       "    }\n",
       "</style>\n",
       "<table border=\"1\" class=\"dataframe\">\n",
       "  <thead>\n",
       "    <tr style=\"text-align: right;\">\n",
       "      <th></th>\n",
       "      <th>Unnamed: 0</th>\n",
       "      <th>label</th>\n",
       "      <th>degree</th>\n",
       "      <th>weighted_degree</th>\n",
       "      <th>betweenness</th>\n",
       "      <th>normalized_betweenness</th>\n",
       "      <th>eccentricity</th>\n",
       "      <th>closeness</th>\n",
       "      <th>network</th>\n",
       "    </tr>\n",
       "  </thead>\n",
       "  <tbody>\n",
       "    <tr>\n",
       "      <th>4</th>\n",
       "      <td>4</td>\n",
       "      <td>Kevin Feige</td>\n",
       "      <td>29</td>\n",
       "      <td>43</td>\n",
       "      <td>329.333333</td>\n",
       "      <td>0.811166</td>\n",
       "      <td>1</td>\n",
       "      <td>1.000000</td>\n",
       "      <td>phase3</td>\n",
       "    </tr>\n",
       "    <tr>\n",
       "      <th>32</th>\n",
       "      <td>32</td>\n",
       "      <td>Kevin Feige</td>\n",
       "      <td>16</td>\n",
       "      <td>20</td>\n",
       "      <td>94.333333</td>\n",
       "      <td>0.786111</td>\n",
       "      <td>1</td>\n",
       "      <td>1.000000</td>\n",
       "      <td>phase2</td>\n",
       "    </tr>\n",
       "    <tr>\n",
       "      <th>53</th>\n",
       "      <td>53</td>\n",
       "      <td>Kevin Feige</td>\n",
       "      <td>18</td>\n",
       "      <td>20</td>\n",
       "      <td>112.000000</td>\n",
       "      <td>0.732026</td>\n",
       "      <td>1</td>\n",
       "      <td>1.000000</td>\n",
       "      <td>phase1</td>\n",
       "    </tr>\n",
       "    <tr>\n",
       "      <th>14</th>\n",
       "      <td>14</td>\n",
       "      <td>Erik Sommers</td>\n",
       "      <td>12</td>\n",
       "      <td>18</td>\n",
       "      <td>8.333333</td>\n",
       "      <td>0.020525</td>\n",
       "      <td>2</td>\n",
       "      <td>0.630435</td>\n",
       "      <td>phase3</td>\n",
       "    </tr>\n",
       "    <tr>\n",
       "      <th>13</th>\n",
       "      <td>13</td>\n",
       "      <td>Chris McKenna</td>\n",
       "      <td>12</td>\n",
       "      <td>18</td>\n",
       "      <td>8.333333</td>\n",
       "      <td>0.020525</td>\n",
       "      <td>2</td>\n",
       "      <td>0.630435</td>\n",
       "      <td>phase3</td>\n",
       "    </tr>\n",
       "    <tr>\n",
       "      <th>...</th>\n",
       "      <td>...</td>\n",
       "      <td>...</td>\n",
       "      <td>...</td>\n",
       "      <td>...</td>\n",
       "      <td>...</td>\n",
       "      <td>...</td>\n",
       "      <td>...</td>\n",
       "      <td>...</td>\n",
       "      <td>...</td>\n",
       "    </tr>\n",
       "    <tr>\n",
       "      <th>62</th>\n",
       "      <td>62</td>\n",
       "      <td>Joe Johnston</td>\n",
       "      <td>3</td>\n",
       "      <td>3</td>\n",
       "      <td>0.000000</td>\n",
       "      <td>0.000000</td>\n",
       "      <td>2</td>\n",
       "      <td>0.545455</td>\n",
       "      <td>phase1</td>\n",
       "    </tr>\n",
       "    <tr>\n",
       "      <th>57</th>\n",
       "      <td>57</td>\n",
       "      <td>Justin Theroux</td>\n",
       "      <td>2</td>\n",
       "      <td>2</td>\n",
       "      <td>0.000000</td>\n",
       "      <td>0.000000</td>\n",
       "      <td>2</td>\n",
       "      <td>0.529412</td>\n",
       "      <td>phase1</td>\n",
       "    </tr>\n",
       "    <tr>\n",
       "      <th>41</th>\n",
       "      <td>41</td>\n",
       "      <td>Joss Whedon</td>\n",
       "      <td>1</td>\n",
       "      <td>1</td>\n",
       "      <td>0.000000</td>\n",
       "      <td>0.000000</td>\n",
       "      <td>2</td>\n",
       "      <td>0.516129</td>\n",
       "      <td>phase2</td>\n",
       "    </tr>\n",
       "    <tr>\n",
       "      <th>8</th>\n",
       "      <td>8</td>\n",
       "      <td>James Gunn</td>\n",
       "      <td>1</td>\n",
       "      <td>1</td>\n",
       "      <td>0.000000</td>\n",
       "      <td>0.000000</td>\n",
       "      <td>2</td>\n",
       "      <td>0.508772</td>\n",
       "      <td>phase3</td>\n",
       "    </tr>\n",
       "    <tr>\n",
       "      <th>65</th>\n",
       "      <td>65</td>\n",
       "      <td>Joss Whedon</td>\n",
       "      <td>1</td>\n",
       "      <td>1</td>\n",
       "      <td>0.000000</td>\n",
       "      <td>0.000000</td>\n",
       "      <td>2</td>\n",
       "      <td>0.514286</td>\n",
       "      <td>phase1</td>\n",
       "    </tr>\n",
       "  </tbody>\n",
       "</table>\n",
       "<p>66 rows × 9 columns</p>\n",
       "</div>"
      ],
      "text/plain": [
       "    Unnamed: 0           label  degree  weighted_degree  betweenness  \\\n",
       "4            4     Kevin Feige      29               43   329.333333   \n",
       "32          32     Kevin Feige      16               20    94.333333   \n",
       "53          53     Kevin Feige      18               20   112.000000   \n",
       "14          14    Erik Sommers      12               18     8.333333   \n",
       "13          13   Chris McKenna      12               18     8.333333   \n",
       "..         ...             ...     ...              ...          ...   \n",
       "62          62    Joe Johnston       3                3     0.000000   \n",
       "57          57  Justin Theroux       2                2     0.000000   \n",
       "41          41     Joss Whedon       1                1     0.000000   \n",
       "8            8      James Gunn       1                1     0.000000   \n",
       "65          65     Joss Whedon       1                1     0.000000   \n",
       "\n",
       "    normalized_betweenness  eccentricity  closeness network  \n",
       "4                 0.811166             1   1.000000  phase3  \n",
       "32                0.786111             1   1.000000  phase2  \n",
       "53                0.732026             1   1.000000  phase1  \n",
       "14                0.020525             2   0.630435  phase3  \n",
       "13                0.020525             2   0.630435  phase3  \n",
       "..                     ...           ...        ...     ...  \n",
       "62                0.000000             2   0.545455  phase1  \n",
       "57                0.000000             2   0.529412  phase1  \n",
       "41                0.000000             2   0.516129  phase2  \n",
       "8                 0.000000             2   0.508772  phase3  \n",
       "65                0.000000             2   0.514286  phase1  \n",
       "\n",
       "[66 rows x 9 columns]"
      ]
     },
     "execution_count": 105,
     "metadata": {},
     "output_type": "execute_result"
    }
   ],
   "source": [
    "df1.sort_values(by=\"weighted_degree\",ascending=False)"
   ]
  },
  {
   "cell_type": "code",
   "execution_count": null,
   "id": "mounted-converter",
   "metadata": {},
   "outputs": [],
   "source": []
  }
 ],
 "metadata": {
  "kernelspec": {
   "display_name": "Python 3",
   "language": "python",
   "name": "python3"
  },
  "language_info": {
   "codemirror_mode": {
    "name": "ipython",
    "version": 3
   },
   "file_extension": ".py",
   "mimetype": "text/x-python",
   "name": "python",
   "nbconvert_exporter": "python",
   "pygments_lexer": "ipython3",
   "version": "3.7.9"
  }
 },
 "nbformat": 4,
 "nbformat_minor": 5
}
