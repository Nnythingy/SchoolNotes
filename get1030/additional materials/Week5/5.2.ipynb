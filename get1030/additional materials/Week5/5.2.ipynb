{
 "cells": [
  {
   "cell_type": "markdown",
   "metadata": {},
   "source": [
    "# 5.2 Part of speech tags"
   ]
  },
  {
   "cell_type": "markdown",
   "metadata": {},
   "source": [
    "As in the previous video, we need to import spacy. But we will also need to import another class from the same library called `Matcher`."
   ]
  },
  {
   "cell_type": "code",
   "execution_count": 1,
   "metadata": {},
   "outputs": [],
   "source": [
    "import spacy\n",
    "from spacy.matcher import Matcher"
   ]
  },
  {
   "cell_type": "markdown",
   "metadata": {},
   "source": [
    "The next step, as before, is loading one of the English models."
   ]
  },
  {
   "cell_type": "code",
   "execution_count": 2,
   "metadata": {},
   "outputs": [],
   "source": [
    "nlp  = spacy.load(\"en_core_web_lg\")"
   ]
  },
  {
   "cell_type": "markdown",
   "metadata": {},
   "source": [
    "The following code allows us to load the \"The Time Machine\" into a variable called \"text\". Please note that it should be in a folder called \"Texts\" relative to our current location."
   ]
  },
  {
   "cell_type": "code",
   "execution_count": 3,
   "metadata": {},
   "outputs": [],
   "source": [
    "with open(\"texts/Wells - Time Machine.txt\", encoding = \"utf8\") as f:\n",
    "    text = f.read()"
   ]
  },
  {
   "cell_type": "markdown",
   "metadata": {},
   "source": [
    "As in the previous Notebook, we process the text with our `nlp` object."
   ]
  },
  {
   "cell_type": "code",
   "execution_count": 4,
   "metadata": {},
   "outputs": [],
   "source": [
    "doc = nlp(text)"
   ]
  },
  {
   "cell_type": "markdown",
   "metadata": {},
   "source": [
    "Now we create an instance of Matcher with the vocabulary of the English model."
   ]
  },
  {
   "cell_type": "code",
   "execution_count": 5,
   "metadata": {},
   "outputs": [],
   "source": [
    "matcher = Matcher(nlp.vocab)"
   ]
  },
  {
   "cell_type": "markdown",
   "metadata": {},
   "source": [
    "As explained in the [Spacy Tutorial](https://course.spacy.io/en/chapter1), we can create matching patterns that only match 'light' when it is a noun."
   ]
  },
  {
   "cell_type": "code",
   "execution_count": 6,
   "metadata": {},
   "outputs": [
    {
     "name": "stdout",
     "output_type": "stream",
     "text": [
      "Light as a noun: 40\n"
     ]
    }
   ],
   "source": [
    "matcher.add(\"LIGHT_NOUN\", [[{\"LOWER\": \"light\", \"POS\":\"NOUN\"}]])\n",
    "matches = matcher(doc)\n",
    "print(\"Light as a noun:\", len(matches))"
   ]
  },
  {
   "cell_type": "markdown",
   "metadata": {},
   "source": [
    "We need to remove the previous pattern before adding a new one. Then we can match 'light' as and adjective. "
   ]
  },
  {
   "cell_type": "code",
   "execution_count": 7,
   "metadata": {},
   "outputs": [
    {
     "name": "stdout",
     "output_type": "stream",
     "text": [
      "Light as an adjective: 1\n"
     ]
    }
   ],
   "source": [
    "matcher.remove(\"LIGHT_NOUN\")\n",
    "matcher.add(\"LIGHT_ADJECTIVE\", [[{\"LOWER\": \"light\", \"POS\":\"ADJ\"}]])\n",
    "matches = matcher(doc)\n",
    "print(\"Light as an adjective:\",len(matches))"
   ]
  },
  {
   "cell_type": "markdown",
   "metadata": {},
   "source": [
    "And, finally, as a verb."
   ]
  },
  {
   "cell_type": "code",
   "execution_count": 8,
   "metadata": {},
   "outputs": [
    {
     "name": "stdout",
     "output_type": "stream",
     "text": [
      "Light as a verb: 2\n"
     ]
    }
   ],
   "source": [
    "#light as a verb\n",
    "matcher.remove(\"LIGHT_ADJECTIVE\")\n",
    "matcher.add(\"LIGHT_VERB\", [[{\"LOWER\": \"light\", \"POS\":\"VERB\"}]])\n",
    "matches = matcher(doc)\n",
    "print(\"Light as a verb:\",len(matches))"
   ]
  },
  {
   "cell_type": "code",
   "execution_count": null,
   "metadata": {},
   "outputs": [],
   "source": []
  }
 ],
 "metadata": {
  "kernelspec": {
   "display_name": "Python 3 (ipykernel)",
   "language": "python",
   "name": "python3"
  },
  "language_info": {
   "codemirror_mode": {
    "name": "ipython",
    "version": 3
   },
   "file_extension": ".py",
   "mimetype": "text/x-python",
   "name": "python",
   "nbconvert_exporter": "python",
   "pygments_lexer": "ipython3",
   "version": "3.9.7"
  }
 },
 "nbformat": 4,
 "nbformat_minor": 2
}
