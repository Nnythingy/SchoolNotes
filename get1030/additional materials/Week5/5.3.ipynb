{
 "cells": [
  {
   "cell_type": "markdown",
   "metadata": {},
   "source": [
    "# 5.3 Lemmas"
   ]
  },
  {
   "cell_type": "markdown",
   "metadata": {},
   "source": [
    "The first few cells are the same as in notebook 5.2. "
   ]
  },
  {
   "cell_type": "code",
   "execution_count": 1,
   "metadata": {},
   "outputs": [],
   "source": [
    "import spacy\n",
    "from spacy.matcher import Matcher"
   ]
  },
  {
   "cell_type": "code",
   "execution_count": 2,
   "metadata": {},
   "outputs": [],
   "source": [
    "nlp  = spacy.load(\"en_core_web_lg\")"
   ]
  },
  {
   "cell_type": "code",
   "execution_count": 3,
   "metadata": {},
   "outputs": [],
   "source": [
    "with open(\"texts/Wells - Time Machine.txt\", encoding = \"utf8\") as f:\n",
    "    text = f.read()"
   ]
  },
  {
   "cell_type": "code",
   "execution_count": 4,
   "metadata": {},
   "outputs": [],
   "source": [
    "doc = nlp(text)"
   ]
  },
  {
   "cell_type": "markdown",
   "metadata": {},
   "source": [
    "Now we will create a pattern to identify different forms of the verb 'say'. Please note that we are setting `as_spans` to `True` because we only want to see the actual tokens. This is a bit different from the online spaCy tutorial."
   ]
  },
  {
   "cell_type": "code",
   "execution_count": 5,
   "metadata": {},
   "outputs": [
    {
     "name": "stdout",
     "output_type": "stream",
     "text": [
      "Forms of 'say': 112\n"
     ]
    }
   ],
   "source": [
    "matcher = Matcher(nlp.vocab)\n",
    "matcher.add(\"LIGHT_VERB\", [[{\"LEMMA\": \"say\", \"POS\":\"VERB\"}]])\n",
    "matches = matcher(doc,as_spans=True)\n",
    "print(\"Forms of 'say':\", len(matches))"
   ]
  },
  {
   "cell_type": "markdown",
   "metadata": {},
   "source": [
    "Finally, we iterate over matches to print matched tokens."
   ]
  },
  {
   "cell_type": "code",
   "execution_count": 6,
   "metadata": {},
   "outputs": [
    {
     "name": "stdout",
     "output_type": "stream",
     "text": [
      "said\n",
      "said\n",
      "said\n",
      "said\n",
      "said\n",
      "say\n",
      "said\n",
      "said\n",
      "said\n",
      "said\n",
      "said\n",
      "say\n",
      "say\n",
      "said\n",
      "said\n",
      "said\n",
      "said\n",
      "said\n",
      "said\n",
      "said\n",
      "said\n",
      "said\n",
      "said\n",
      "said\n",
      "said\n",
      "said\n",
      "said\n",
      "said\n",
      "said\n",
      "said\n",
      "said\n",
      "said\n",
      "said\n",
      "say\n",
      "said\n",
      "said\n",
      "said\n",
      "said\n",
      "said\n",
      "said\n",
      "said\n",
      "said\n",
      "said\n",
      "said\n",
      "said\n",
      "said\n",
      "said\n",
      "said\n",
      "Says\n",
      "said\n",
      "said\n",
      "said\n",
      "said\n",
      "said\n",
      "said\n",
      "said\n",
      "say\n",
      "said\n",
      "said\n",
      "saying\n",
      "say\n",
      "said\n",
      "say\n",
      "said\n",
      "said\n",
      "say\n",
      "said\n",
      "said\n",
      "said\n",
      "say\n",
      "said\n",
      "said\n",
      "said\n",
      "said\n",
      "said\n",
      "say\n",
      "said\n",
      "say\n",
      "said\n",
      "saying\n",
      "said\n",
      "said\n",
      "said\n",
      "said\n",
      "said\n",
      "said\n",
      "say\n",
      "say\n",
      "say\n",
      "say\n",
      "said\n",
      "said\n",
      "said\n",
      "say\n",
      "said\n",
      "say\n",
      "said\n",
      "Say\n",
      "said\n",
      "said\n",
      "said\n",
      "said\n",
      "said\n",
      "said\n",
      "said\n",
      "say\n",
      "said\n",
      "said\n",
      "said\n",
      "said\n",
      "said\n",
      "say\n"
     ]
    }
   ],
   "source": [
    "for span in matches:\n",
    "    print(span)"
   ]
  },
  {
   "cell_type": "code",
   "execution_count": null,
   "metadata": {},
   "outputs": [],
   "source": []
  }
 ],
 "metadata": {
  "kernelspec": {
   "display_name": "Python 3 (ipykernel)",
   "language": "python",
   "name": "python3"
  },
  "language_info": {
   "codemirror_mode": {
    "name": "ipython",
    "version": 3
   },
   "file_extension": ".py",
   "mimetype": "text/x-python",
   "name": "python",
   "nbconvert_exporter": "python",
   "pygments_lexer": "ipython3",
   "version": "3.9.7"
  }
 },
 "nbformat": 4,
 "nbformat_minor": 2
}
